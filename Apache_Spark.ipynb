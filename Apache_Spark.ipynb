{
  "nbformat": 4,
  "nbformat_minor": 0,
  "metadata": {
    "colab": {
      "name": "Apache Spark.ipynb",
      "provenance": [],
      "collapsed_sections": [],
      "authorship_tag": "ABX9TyNiUAWKIVuG2eYkfa++U3hn",
      "include_colab_link": true
    },
    "kernelspec": {
      "name": "python3",
      "display_name": "Python 3"
    },
    "accelerator": "GPU"
  },
  "cells": [
    {
      "cell_type": "markdown",
      "metadata": {
        "id": "view-in-github",
        "colab_type": "text"
      },
      "source": [
        "<a href=\"https://colab.research.google.com/github/AndreiLesi/Spark-DE/blob/master/Apache_Spark.ipynb\" target=\"_parent\"><img src=\"https://colab.research.google.com/assets/colab-badge.svg\" alt=\"Open In Colab\"/></a>"
      ]
    },
    {
      "cell_type": "code",
      "metadata": {
        "id": "lNi43QQmftMH",
        "colab_type": "code",
        "colab": {
          "base_uri": "https://localhost:8080/",
          "height": 72
        },
        "outputId": "da809113-b1b5-4c62-e9a5-88b5d415e20c"
      },
      "source": [
        "!pip install -q pyspark"
      ],
      "execution_count": null,
      "outputs": [
        {
          "output_type": "stream",
          "text": [
            "\u001b[K     |████████████████████████████████| 204.7MB 76kB/s \n",
            "\u001b[K     |████████████████████████████████| 204kB 37.3MB/s \n",
            "\u001b[?25h  Building wheel for pyspark (setup.py) ... \u001b[?25l\u001b[?25hdone\n"
          ],
          "name": "stdout"
        }
      ]
    },
    {
      "cell_type": "code",
      "metadata": {
        "id": "hOnu31q6gz10",
        "colab_type": "code",
        "colab": {
          "resources": {
            "http://localhost:8080/nbextensions/google.colab/files.js": {
              "data": "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",
              "ok": true,
              "headers": [
                [
                  "content-type",
                  "application/javascript"
                ]
              ],
              "status": 200,
              "status_text": "OK"
            }
          },
          "base_uri": "https://localhost:8080/",
          "height": 73
        },
        "outputId": "48abcc4a-62a0-4d51-d8e7-204c4a1c924a"
      },
      "source": [
        "#from google.colab import files\n",
        "## Load Players.txt \n",
        "#uploaded = files.upload()"
      ],
      "execution_count": null,
      "outputs": [
        {
          "output_type": "display_data",
          "data": {
            "text/html": [
              "\n",
              "     <input type=\"file\" id=\"files-99a6aa18-173e-4c3b-b480-4b19a53911ba\" name=\"files[]\" multiple disabled\n",
              "        style=\"border:none\" />\n",
              "     <output id=\"result-99a6aa18-173e-4c3b-b480-4b19a53911ba\">\n",
              "      Upload widget is only available when the cell has been executed in the\n",
              "      current browser session. Please rerun this cell to enable.\n",
              "      </output>\n",
              "      <script src=\"/nbextensions/google.colab/files.js\"></script> "
            ],
            "text/plain": [
              "<IPython.core.display.HTML object>"
            ]
          },
          "metadata": {
            "tags": []
          }
        },
        {
          "output_type": "stream",
          "text": [
            "Saving Churn.csv to Churn.csv\n"
          ],
          "name": "stdout"
        }
      ]
    },
    {
      "cell_type": "markdown",
      "metadata": {
        "id": "dkmfTE0Rfk1R",
        "colab_type": "text"
      },
      "source": [
        "# Initialize Spark"
      ]
    },
    {
      "cell_type": "code",
      "metadata": {
        "id": "g7q6IM1PfmK_",
        "colab_type": "code",
        "colab": {}
      },
      "source": [
        "import pyspark\n",
        "import random\n",
        "from pyspark.sql import SparkSession\n",
        "from pyspark.sql.types import *\n",
        "\n",
        "spark = SparkSession.builder.appName(\"PySpark\").getOrCreate()\n",
        "sc = pyspark.SparkContext.getOrCreate()\n"
      ],
      "execution_count": null,
      "outputs": []
    },
    {
      "cell_type": "markdown",
      "metadata": {
        "id": "l_qWzpZFhMpe",
        "colab_type": "text"
      },
      "source": [
        "# RDD Basics"
      ]
    },
    {
      "cell_type": "code",
      "metadata": {
        "id": "07GKOAYLfpKu",
        "colab_type": "code",
        "colab": {}
      },
      "source": [
        "# Create RDD from External Data\n",
        "rdd = sc.textFile('Players.txt')\n",
        "# Create RDD from Array\n",
        "rdd2 = sc.parallelize(range(1,5),2)\n",
        "rdd3 = sc.parallelize([('a',7),('a',2),('b',2)])\n",
        "# Basic Infromation\n",
        "print(\"Number of Elements: \", rdd2.count())\n",
        "rdd2.countByValue()\n",
        "print(\"Sum of all Elements: \",rdd2.sum())\n",
        "print(\"RDD is empty :\" ,rdd2.isEmpty())\n",
        "\n",
        "# Summary\n",
        "print(\"RDD Summary: \",rdd2.stats())\n",
        "\n",
        "# Functions\n",
        "# Basics: collect(), take(N), first(), top(n)\n",
        "# Map returns list of lists\n",
        "print(\"Map: \\n\", rdd.map(lambda x: x.split(\",\")).collect())\n",
        "# flatMap returns only ONE list\n",
        "print(\"FlatMap: \\n\", rdd.flatMap(lambda x: x.split(\",\")).collect())\n",
        "# Filtering\n",
        "print(\"Filtering: \\n\", rdd3.filter(lambda x: \"a\" in x).collect())\n",
        "# Reducing \n",
        "# Reduce by Key merges values for EVERY key, here the 'a' key appears twice \n",
        "# the resulting value is therefore the merged(added) values\n",
        "print(\"Reducing by Key: \\n\", rdd3.reduceByKey(lambda x, y: x + y).collect())\n",
        "# Basic Reduce merges all keys\n",
        "print(\"Reducing: \\n\", rdd3.reduce(lambda x, y: x + y))\n",
        "# Grouping by:\n",
        "# Group by function: here based on the first starting literal\n",
        "rdd_names = sc.parallelize([\"John\", \"Jimmy\", \"Tina\", \"Thomas\", \"James\", \"Cory\"])\n",
        "print(\"Group by function: \\n\", \n",
        "      rdd_names.groupBy(lambda x: x[0]).mapValues(list).collect())\n",
        "print(\"Group By Key: \\n\", rdd3.groupByKey().mapValues(list).collect())\n",
        "# Aggregating:\n",
        "# Creaate two functions, first one tracks the sum, the second one the length\n",
        "zeroVals = (0,0) # == (sum, length)\n",
        "seqOp = (lambda result,elem: (result[0] + elem, result[1] + 1))\n",
        "combOp = (lambda loc_res1,loc_res2: (loc_res1[0] + loc_res2[0],\n",
        "          loc_res1[1] + loc_res2[1]))\n",
        "# Aggregate result is sum 1+2+3+4 = 10 and length = 4\n",
        "print(\"Aggregate: \\n\", rdd2.aggregate(zeroVals, seqOp, combOp))\n",
        "# Sorting:\n",
        "print(\"Sort by (here 2nd tuple element): \\n\", rdd3.sortBy(lambda x: x[1]).collect())\n",
        "print(\"Sort by Key: \\n\", rdd3.sortByKey().collect())\n"
      ],
      "execution_count": null,
      "outputs": []
    },
    {
      "cell_type": "code",
      "metadata": {
        "id": "8zJqEct9nTGb",
        "colab_type": "code",
        "colab": {}
      },
      "source": [
        "rdd3.sortBy(lambda x: x[1]).collect()"
      ],
      "execution_count": null,
      "outputs": []
    },
    {
      "cell_type": "code",
      "metadata": {
        "id": "g6WZpHGxxLm_",
        "colab_type": "code",
        "colab": {}
      },
      "source": [
        "x.groupBy(lambda x: x[0]).mapValues(list).collect()"
      ],
      "execution_count": null,
      "outputs": []
    },
    {
      "cell_type": "markdown",
      "metadata": {
        "id": "NCeVjU46mASm",
        "colab_type": "text"
      },
      "source": [
        "# Data Frame Basics"
      ]
    },
    {
      "cell_type": "code",
      "metadata": {
        "id": "euZ3KdvXhuwh",
        "colab_type": "code",
        "colab": {}
      },
      "source": [
        "# Read Data with structure to DataFrame\n",
        "schema = StructType([StructField('Name', StringType(), True),\n",
        "                     StructField('Nationality', StringType(), True),\n",
        "                     StructField('Rating', IntegerType(), True),\n",
        "                     StructField('Club', StringType(), True),\n",
        "                     StructField('Skills', IntegerType(), True)])\n",
        "df = spark.read.option(\"header\",True).schema(schema).csv(\"Players.txt\")\n",
        "# Infer structure:\n",
        "df = spark.read.csv(\"Players.txt\", inferSchema = True, header = True)\n",
        "\n",
        "# Insspect Data:\n",
        "df.printSchema()\n",
        "df.show()\n",
        "df.count()\n"
      ],
      "execution_count": null,
      "outputs": []
    },
    {
      "cell_type": "markdown",
      "metadata": {
        "id": "JLBhNE4D_pJa",
        "colab_type": "text"
      },
      "source": [
        "# Churn Analysis"
      ]
    },
    {
      "cell_type": "markdown",
      "metadata": {
        "id": "3ri3aCEdA8Ex",
        "colab_type": "text"
      },
      "source": [
        "## Load Data"
      ]
    },
    {
      "cell_type": "code",
      "metadata": {
        "id": "8_fyxZ0iBGU3",
        "colab_type": "code",
        "colab": {}
      },
      "source": [
        "# Do not forget to run Initialize Spark at the beginning of this document !\n",
        "from pyspark.sql.functions import isnan, when, count, col\n",
        "import pandas as pd\n",
        "from pyspark import SparkFiles"
      ],
      "execution_count": null,
      "outputs": []
    },
    {
      "cell_type": "code",
      "metadata": {
        "id": "9pnbhZTQ_tnp",
        "colab_type": "code",
        "colab": {}
      },
      "source": [
        "# Goal: Predict if a customer will churn/cancel subscription or not based on a \n",
        "# number of parameters\n",
        "# Read Dataset\n",
        "url = \"https://raw.githubusercontent.com/treselle-systems/customer_churn_analysis/master/WA_Fn-UseC_-Telco-Customer-Churn.csv\"\n",
        "\n",
        "spark.sparkContext.addFile(url)\n",
        "\n",
        "df = spark.read.option(\"inferSchema\", True) \\\n",
        "    .option(\"header\", True) \\\n",
        "    .option(\"nanValue\", \" \") \\\n",
        "    .option(\"nullValue\", \" \") \\\n",
        "    .csv(\"file://\"+SparkFiles.get(\"WA_Fn-UseC_-Telco-Customer-Churn.csv\"))"
      ],
      "execution_count": null,
      "outputs": []
    },
    {
      "cell_type": "code",
      "metadata": {
        "id": "CjefPHkSAKkV",
        "colab_type": "code",
        "colab": {
          "base_uri": "https://localhost:8080/",
          "height": 765
        },
        "outputId": "9779b489-c7e9-4be1-aaeb-95af9e9648bb"
      },
      "source": [
        "# Dataframe Bassic Information\n",
        "df.printSchema()\n",
        "df.show(10)\n",
        "print(\"Number of Entries: \",df.count())"
      ],
      "execution_count": null,
      "outputs": [
        {
          "output_type": "stream",
          "text": [
            "root\n",
            " |-- customerID: string (nullable = true)\n",
            " |-- gender: string (nullable = true)\n",
            " |-- SeniorCitizen: integer (nullable = true)\n",
            " |-- Partner: string (nullable = true)\n",
            " |-- Dependents: string (nullable = true)\n",
            " |-- tenure: integer (nullable = true)\n",
            " |-- PhoneService: string (nullable = true)\n",
            " |-- MultipleLines: string (nullable = true)\n",
            " |-- InternetService: string (nullable = true)\n",
            " |-- OnlineSecurity: string (nullable = true)\n",
            " |-- OnlineBackup: string (nullable = true)\n",
            " |-- DeviceProtection: string (nullable = true)\n",
            " |-- TechSupport: string (nullable = true)\n",
            " |-- StreamingTV: string (nullable = true)\n",
            " |-- StreamingMovies: string (nullable = true)\n",
            " |-- Contract: string (nullable = true)\n",
            " |-- PaperlessBilling: string (nullable = true)\n",
            " |-- PaymentMethod: string (nullable = true)\n",
            " |-- MonthlyCharges: double (nullable = true)\n",
            " |-- TotalCharges: double (nullable = true)\n",
            " |-- Churn: string (nullable = true)\n",
            "\n",
            "+----------+------+-------------+-------+----------+------+------------+----------------+---------------+--------------+------------+----------------+-----------+-----------+---------------+--------------+----------------+--------------------+--------------+------------+-----+\n",
            "|customerID|gender|SeniorCitizen|Partner|Dependents|tenure|PhoneService|   MultipleLines|InternetService|OnlineSecurity|OnlineBackup|DeviceProtection|TechSupport|StreamingTV|StreamingMovies|      Contract|PaperlessBilling|       PaymentMethod|MonthlyCharges|TotalCharges|Churn|\n",
            "+----------+------+-------------+-------+----------+------+------------+----------------+---------------+--------------+------------+----------------+-----------+-----------+---------------+--------------+----------------+--------------------+--------------+------------+-----+\n",
            "|7590-VHVEG|Female|            0|    Yes|        No|     1|          No|No phone service|            DSL|            No|         Yes|              No|         No|         No|             No|Month-to-month|             Yes|    Electronic check|         29.85|       29.85|   No|\n",
            "|5575-GNVDE|  Male|            0|     No|        No|    34|         Yes|              No|            DSL|           Yes|          No|             Yes|         No|         No|             No|      One year|              No|        Mailed check|         56.95|      1889.5|   No|\n",
            "|3668-QPYBK|  Male|            0|     No|        No|     2|         Yes|              No|            DSL|           Yes|         Yes|              No|         No|         No|             No|Month-to-month|             Yes|        Mailed check|         53.85|      108.15|  Yes|\n",
            "|7795-CFOCW|  Male|            0|     No|        No|    45|          No|No phone service|            DSL|           Yes|          No|             Yes|        Yes|         No|             No|      One year|              No|Bank transfer (au...|          42.3|     1840.75|   No|\n",
            "|9237-HQITU|Female|            0|     No|        No|     2|         Yes|              No|    Fiber optic|            No|          No|              No|         No|         No|             No|Month-to-month|             Yes|    Electronic check|          70.7|      151.65|  Yes|\n",
            "|9305-CDSKC|Female|            0|     No|        No|     8|         Yes|             Yes|    Fiber optic|            No|          No|             Yes|         No|        Yes|            Yes|Month-to-month|             Yes|    Electronic check|         99.65|       820.5|  Yes|\n",
            "|1452-KIOVK|  Male|            0|     No|       Yes|    22|         Yes|             Yes|    Fiber optic|            No|         Yes|              No|         No|        Yes|             No|Month-to-month|             Yes|Credit card (auto...|          89.1|      1949.4|   No|\n",
            "|6713-OKOMC|Female|            0|     No|        No|    10|          No|No phone service|            DSL|           Yes|          No|              No|         No|         No|             No|Month-to-month|              No|        Mailed check|         29.75|       301.9|   No|\n",
            "|7892-POOKP|Female|            0|    Yes|        No|    28|         Yes|             Yes|    Fiber optic|            No|          No|             Yes|        Yes|        Yes|            Yes|Month-to-month|             Yes|    Electronic check|         104.8|     3046.05|  Yes|\n",
            "|6388-TABGU|  Male|            0|     No|       Yes|    62|         Yes|              No|            DSL|           Yes|         Yes|              No|         No|         No|             No|      One year|              No|Bank transfer (au...|         56.15|     3487.95|   No|\n",
            "+----------+------+-------------+-------+----------+------+------------+----------------+---------------+--------------+------------+----------------+-----------+-----------+---------------+--------------+----------------+--------------------+--------------+------------+-----+\n",
            "only showing top 10 rows\n",
            "\n",
            "Number of Entries:  7043\n"
          ],
          "name": "stdout"
        }
      ]
    },
    {
      "cell_type": "markdown",
      "metadata": {
        "id": "lbOYGumQA3zX",
        "colab_type": "text"
      },
      "source": [
        "## Analyze Data"
      ]
    },
    {
      "cell_type": "code",
      "metadata": {
        "id": "gTgEwPlSAhqR",
        "colab_type": "code",
        "colab": {
          "base_uri": "https://localhost:8080/",
          "height": 146
        },
        "outputId": "3cb43c32-835a-4489-9c12-0f5832db0f73"
      },
      "source": [
        "# Check if Null Values exist\n",
        "df.select([count(when(isnan(c) | col(c).isNull(), c)).alias(c) for c in df.columns]).show()\n",
        "\n",
        "# ==> In TotalCharges, 11 Rows are None, we will replace those later on"
      ],
      "execution_count": null,
      "outputs": [
        {
          "output_type": "stream",
          "text": [
            "+----------+------+-------------+-------+----------+------+------------+-------------+---------------+--------------+------------+----------------+-----------+-----------+---------------+--------+----------------+-------------+--------------+------------+-----+\n",
            "|customerID|gender|SeniorCitizen|Partner|Dependents|tenure|PhoneService|MultipleLines|InternetService|OnlineSecurity|OnlineBackup|DeviceProtection|TechSupport|StreamingTV|StreamingMovies|Contract|PaperlessBilling|PaymentMethod|MonthlyCharges|TotalCharges|Churn|\n",
            "+----------+------+-------------+-------+----------+------+------------+-------------+---------------+--------------+------------+----------------+-----------+-----------+---------------+--------+----------------+-------------+--------------+------------+-----+\n",
            "|         0|     0|            0|      0|         0|     0|           0|            0|              0|             0|           0|               0|          0|          0|              0|       0|               0|            0|             0|          11|    0|\n",
            "+----------+------+-------------+-------+----------+------+------------+-------------+---------------+--------------+------------+----------------+-----------+-----------+---------------+--------+----------------+-------------+--------------+------------+-----+\n",
            "\n"
          ],
          "name": "stdout"
        }
      ]
    },
    {
      "cell_type": "code",
      "metadata": {
        "id": "nFiSDWUAA_YK",
        "colab_type": "code",
        "colab": {
          "base_uri": "https://localhost:8080/",
          "height": 1000
        },
        "outputId": "47336314-2b5c-444d-aa2e-b93344e0178e"
      },
      "source": [
        "# Analyze categorical columns -> use df.columns to find out which one there is\n",
        "catColumns = [\"gender\", \"SeniorCitizen\", 'Partner', 'Dependents', 'PhoneService',\n",
        "          'MultipleLines', 'InternetService', 'OnlineSecurity', 'OnlineBackup',\n",
        "          'DeviceProtection', 'TechSupport', 'StreamingTV', 'StreamingMovies',\n",
        "          'Contract', 'PaperlessBilling', 'PaymentMethod']\n",
        "\n",
        "# See if dataset is balanced or not -> here unbalanced\n",
        "df.groupBy(\"Churn\").count().show()\n",
        "\n",
        "# Note to print information use the inbuild spark commands as follows:\n",
        "# df.select(\"gender\",\"churn\").groupBy(\"gender\",\"churn\").count().show()\n",
        "# For a pivot table, convert to pandas dataframe and unse pd.pivot_table\n",
        "for col in catColumns:\n",
        "  df_pd = df.select(col,\"churn\").groupBy(col,\"churn\").count().toPandas()\n",
        "  print(pd.pivot_table(df_pd, index = col, columns = \"churn\"), \"\\n\\n\")\n",
        "\n",
        "# We can see i.e:\n",
        "#   - gender makes no difference\n",
        "#   - Higher churn among seniors\n",
        "#   - Higher churn for fiber optic users or those without online security\n",
        "#   - Higher churn rate if paperless billing\n",
        "# etc."
      ],
      "execution_count": null,
      "outputs": [
        {
          "output_type": "stream",
          "text": [
            "+-----+-----+\n",
            "|Churn|count|\n",
            "+-----+-----+\n",
            "|   No| 5174|\n",
            "|  Yes| 1869|\n",
            "+-----+-----+\n",
            "\n",
            "       count     \n",
            "churn     No  Yes\n",
            "gender           \n",
            "Female  2549  939\n",
            "Male    2625  930 \n",
            "\n",
            "\n",
            "              count      \n",
            "churn            No   Yes\n",
            "SeniorCitizen            \n",
            "0              4508  1393\n",
            "1               666   476 \n",
            "\n",
            "\n",
            "        count      \n",
            "churn      No   Yes\n",
            "Partner            \n",
            "No       2441  1200\n",
            "Yes      2733   669 \n",
            "\n",
            "\n",
            "           count      \n",
            "churn         No   Yes\n",
            "Dependents            \n",
            "No          3390  1543\n",
            "Yes         1784   326 \n",
            "\n",
            "\n",
            "             count      \n",
            "churn           No   Yes\n",
            "PhoneService            \n",
            "No             512   170\n",
            "Yes           4662  1699 \n",
            "\n",
            "\n",
            "                 count     \n",
            "churn               No  Yes\n",
            "MultipleLines              \n",
            "No                2541  849\n",
            "No phone service   512  170\n",
            "Yes               2121  850 \n",
            "\n",
            "\n",
            "                count      \n",
            "churn              No   Yes\n",
            "InternetService            \n",
            "DSL              1962   459\n",
            "Fiber optic      1799  1297\n",
            "No               1413   113 \n",
            "\n",
            "\n",
            "                    count      \n",
            "churn                  No   Yes\n",
            "OnlineSecurity                 \n",
            "No                   2037  1461\n",
            "No internet service  1413   113\n",
            "Yes                  1724   295 \n",
            "\n",
            "\n",
            "                    count      \n",
            "churn                  No   Yes\n",
            "OnlineBackup                   \n",
            "No                   1855  1233\n",
            "No internet service  1413   113\n",
            "Yes                  1906   523 \n",
            "\n",
            "\n",
            "                    count      \n",
            "churn                  No   Yes\n",
            "DeviceProtection               \n",
            "No                   1884  1211\n",
            "No internet service  1413   113\n",
            "Yes                  1877   545 \n",
            "\n",
            "\n",
            "                    count      \n",
            "churn                  No   Yes\n",
            "TechSupport                    \n",
            "No                   2027  1446\n",
            "No internet service  1413   113\n",
            "Yes                  1734   310 \n",
            "\n",
            "\n",
            "                    count     \n",
            "churn                  No  Yes\n",
            "StreamingTV                   \n",
            "No                   1868  942\n",
            "No internet service  1413  113\n",
            "Yes                  1893  814 \n",
            "\n",
            "\n",
            "                    count     \n",
            "churn                  No  Yes\n",
            "StreamingMovies               \n",
            "No                   1847  938\n",
            "No internet service  1413  113\n",
            "Yes                  1914  818 \n",
            "\n",
            "\n",
            "               count      \n",
            "churn             No   Yes\n",
            "Contract                  \n",
            "Month-to-month  2220  1655\n",
            "One year        1307   166\n",
            "Two year        1647    48 \n",
            "\n",
            "\n",
            "                 count      \n",
            "churn               No   Yes\n",
            "PaperlessBilling            \n",
            "No                2403   469\n",
            "Yes               2771  1400 \n",
            "\n",
            "\n",
            "                          count      \n",
            "churn                        No   Yes\n",
            "PaymentMethod                        \n",
            "Bank transfer (automatic)  1286   258\n",
            "Credit card (automatic)    1290   232\n",
            "Electronic check           1294  1071\n",
            "Mailed check               1304   308 \n",
            "\n",
            "\n"
          ],
          "name": "stdout"
        }
      ]
    },
    {
      "cell_type": "code",
      "metadata": {
        "id": "S42aHuZDUqNa",
        "colab_type": "code",
        "colab": {
          "base_uri": "https://localhost:8080/",
          "height": 183
        },
        "outputId": "60be96ee-317e-4467-eac2-df3ba988f92a"
      },
      "source": [
        "# Sample more in-depth statistics for the categorical columns\n",
        "\n",
        "df.stat.crosstab(\"SeniorCitizen\", \"InternetService\").show()\n",
        "# We see that senior citizen mostly have Fiber Optic, while non-seniors \n",
        "# its mostly DSL and Fiber\n",
        "\n",
        "df.stat.freqItems(catColumns, 0.6).collect()"
      ],
      "execution_count": null,
      "outputs": [
        {
          "output_type": "stream",
          "text": [
            "+-----------------------------+----+-----------+----+\n",
            "|SeniorCitizen_InternetService| DSL|Fiber optic|  No|\n",
            "+-----------------------------+----+-----------+----+\n",
            "|                            1| 259|        831|  52|\n",
            "|                            0|2162|       2265|1474|\n",
            "+-----------------------------+----+-----------+----+\n",
            "\n"
          ],
          "name": "stdout"
        },
        {
          "output_type": "execute_result",
          "data": {
            "text/plain": [
              "[Row(gender_freqItems=['Male'], SeniorCitizen_freqItems=[0], Partner_freqItems=['No'], Dependents_freqItems=['No'], PhoneService_freqItems=['Yes'], MultipleLines_freqItems=['Yes'], InternetService_freqItems=['Fiber optic'], OnlineSecurity_freqItems=['No'], OnlineBackup_freqItems=['Yes'], DeviceProtection_freqItems=['No'], TechSupport_freqItems=['No'], StreamingTV_freqItems=['Yes'], StreamingMovies_freqItems=['No'], Contract_freqItems=['Month-to-month'], PaperlessBilling_freqItems=['Yes'], PaymentMethod_freqItems=['Bank transfer (automatic)'])]"
            ]
          },
          "metadata": {
            "tags": []
          },
          "execution_count": 8
        }
      ]
    },
    {
      "cell_type": "code",
      "metadata": {
        "id": "Z7eZFmTiV2XG",
        "colab_type": "code",
        "colab": {
          "base_uri": "https://localhost:8080/",
          "height": 855
        },
        "outputId": "b3b1f61f-cc58-4666-bcc0-f34966c78b95"
      },
      "source": [
        "# Analyze the numeric columns:\n",
        "df.select(\"tenure\", \"TotalCharges\", \"MonthlyCharges\").describe().show()\n",
        "\n",
        "pdf_df = df.select(\"tenure\", \"churn\").groupBy(\"tenure\",\"churn\").count()\\\n",
        "                                     .sort(\"tenure\",\"churn\").toPandas()\n",
        "pdf_df[pdf_df[\"churn\"] == \"Yes\"].plot.bar(x = \"tenure\", y = \"count\", \n",
        "                                          figsize = (15,5), color = \"r\")\n",
        "pdf_df[pdf_df[\"churn\"] == \"No\"].plot.bar(x = \"tenure\", y = \"count\", \n",
        "                                         figsize = (15,5), color = \"g\")\n",
        "\n",
        "# We can see that the churn = yes rate drops with increasing tenure\n",
        "# and subsequently that the churn = no rate increases with incr. tenure"
      ],
      "execution_count": null,
      "outputs": [
        {
          "output_type": "stream",
          "text": [
            "+-------+------------------+------------------+------------------+\n",
            "|summary|            tenure|      TotalCharges|    MonthlyCharges|\n",
            "+-------+------------------+------------------+------------------+\n",
            "|  count|              7043|              7032|              7043|\n",
            "|   mean| 32.37114865824223|2283.3004408418697| 64.76169246059922|\n",
            "| stddev|24.559481023094442| 2266.771361883145|30.090047097678482|\n",
            "|    min|                 0|              18.8|             18.25|\n",
            "|    max|                72|            8684.8|            118.75|\n",
            "+-------+------------------+------------------+------------------+\n",
            "\n"
          ],
          "name": "stdout"
        },
        {
          "output_type": "execute_result",
          "data": {
            "text/plain": [
              "<matplotlib.axes._subplots.AxesSubplot at 0x7f9bf3bd27b8>"
            ]
          },
          "metadata": {
            "tags": []
          },
          "execution_count": 9
        },
        {
          "output_type": "display_data",
          "data": {
            "image/png": "[encoded data removed]",
            "text/plain": [
              "<Figure size 1080x360 with 1 Axes>"
            ]
          },
          "metadata": {
            "tags": [],
            "needs_background": "light"
          }
        },
        {
          "output_type": "display_data",
          "data": {
            "image/png": "[encoded data removed]",
            "text/plain": [
              "<Figure size 1080x360 with 1 Axes>"
            ]
          },
          "metadata": {
            "tags": [],
            "needs_background": "light"
          }
        }
      ]
    },
    {
      "cell_type": "markdown",
      "metadata": {
        "id": "aTHfXk_UfS3J",
        "colab_type": "text"
      },
      "source": [
        "## Create and run the pre-processing pipeline"
      ]
    },
    {
      "cell_type": "code",
      "metadata": {
        "id": "-bPFEN_JfyLk",
        "colab_type": "code",
        "colab": {}
      },
      "source": [
        "from pyspark.ml import Pipeline\n",
        "from pyspark.ml.feature import OneHotEncoder, StringIndexer, VectorAssembler,\\\n",
        "                               Imputer\n",
        "from pyspark.ml.classification import LogisticRegression, RandomForestClassifier\n",
        "import matplotlib.pyplot as plt\n",
        "from pyspark.ml.evaluation import BinaryClassificationEvaluator\n",
        "from pyspark.mllib.evaluation import BinaryClassificationMetrics\n",
        "from pyspark.ml.tuning import ParamGridBuilder, CrossValidator"
      ],
      "execution_count": null,
      "outputs": []
    },
    {
      "cell_type": "code",
      "metadata": {
        "id": "GyJRO3-TdIOG",
        "colab_type": "code",
        "colab": {
          "base_uri": "https://localhost:8080/",
          "height": 53
        },
        "outputId": "0db46716-533d-4d15-ef4e-7332471e3937"
      },
      "source": [
        "# Split data into train and test, with a seed of 24 -> ensures same split\n",
        "(train_data, test_data) = df.randomSplit([0.7, 0.3], 24)\n",
        "print(\"Records for trainig: \" + str(train_data.count()))\n",
        "print(\"Records for evaluation: \" + str(test_data.count()))"
      ],
      "execution_count": null,
      "outputs": [
        {
          "output_type": "stream",
          "text": [
            "Records for trainig: 4942\n",
            "Records for evaluation: 2101\n"
          ],
          "name": "stdout"
        }
      ]
    },
    {
      "cell_type": "code",
      "metadata": {
        "id": "hWpraAoZgJgp",
        "colab_type": "code",
        "colab": {}
      },
      "source": [
        "# Convert Categorical coloums into number using a string encoder and OHE\n",
        "stages = []\n",
        "\n",
        "for category in catColumns:\n",
        "  stringIndexer = StringIndexer(inputCol = category, \n",
        "                                outputCol = category + \"Index\")\n",
        "  OHE = OneHotEncoder(inputCol= stringIndexer.getOutputCol(), \n",
        "                      outputCol = category + \"CatVec\")\n",
        "  stages += [stringIndexer, OHE]\n"
      ],
      "execution_count": null,
      "outputs": []
    },
    {
      "cell_type": "code",
      "metadata": {
        "id": "DOEJJ_-wijmP",
        "colab_type": "code",
        "colab": {}
      },
      "source": [
        "# Fix missing input -> as we saw there are some entries missing in TotalCharges.\n",
        "# These inputs can be estimated using Linear regerssion -> use Imputer here\n",
        "imputer = Imputer(inputCol= \"TotalCharges\", outputCol = \"out_TotalCharges\")\n",
        "stages += [imputer]"
      ],
      "execution_count": null,
      "outputs": []
    },
    {
      "cell_type": "code",
      "metadata": {
        "id": "prIW2k1oisz2",
        "colab_type": "code",
        "colab": {}
      },
      "source": [
        "# Finally convert label -> churn YES/NO to 0/1 using a string indexer\n",
        "label_Idx = StringIndexer(inputCol = \"Churn\", outputCol = \"label\")\n",
        "stages += [label_Idx]"
      ],
      "execution_count": null,
      "outputs": []
    },
    {
      "cell_type": "code",
      "metadata": {
        "id": "SwR5D1SWixJi",
        "colab_type": "code",
        "colab": {}
      },
      "source": [
        "# Extra Feature Engineering Step: We see that tenure decreases linearly"
      ],
      "execution_count": null,
      "outputs": []
    },
    {
      "cell_type": "code",
      "metadata": {
        "id": "_JAr1cr3lnQY",
        "colab_type": "code",
        "colab": {}
      },
      "source": [
        "# create feature Vector using VectorAssembler\n",
        "numericCols = [\"tenure\", \"out_TotalCharges\", \"MonthlyCharges\"]\n",
        "assembleInputs = [c + \"CatVec\" for c in catColumns] + numericCols\n",
        "assembler = VectorAssembler(inputCols = assembleInputs, outputCol = \"features\")\n",
        "stages += [assembler]"
      ],
      "execution_count": null,
      "outputs": []
    },
    {
      "cell_type": "code",
      "metadata": {
        "id": "nipyyakPmUMx",
        "colab_type": "code",
        "colab": {}
      },
      "source": [
        "# Final Stages summary:\n",
        "stages"
      ],
      "execution_count": null,
      "outputs": []
    },
    {
      "cell_type": "code",
      "metadata": {
        "id": "61Qlzsi3mYGT",
        "colab_type": "code",
        "colab": {}
      },
      "source": [
        "# Create pipeline and run it on training data\n",
        "pipeline = Pipeline(stages = stages)\n",
        "pipelineModel = pipeline.fit(train_data)\n",
        "\n",
        "# Transform Training and Test Data -> Append new categorical and num columns\n",
        "trainprepDF = pipelineModel.transform(train_data)\n",
        "testprepDF = pipelineModel.transform(test_data)"
      ],
      "execution_count": null,
      "outputs": []
    },
    {
      "cell_type": "code",
      "metadata": {
        "id": "dKmeFRKbmySd",
        "colab_type": "code",
        "colab": {
          "base_uri": "https://localhost:8080/",
          "height": 1000
        },
        "outputId": "f20e09ae-20c5-49e8-dcb4-e09d55151cd2"
      },
      "source": [
        "# Finally we the data preprocesssing is finished, the end-result is a 30-dim\n",
        "# features vector and a numerical labels vector necesarry for training the LR\n",
        "trainprepDF.printSchema()\n",
        "trainprepDF.show(2)"
      ],
      "execution_count": null,
      "outputs": [
        {
          "output_type": "stream",
          "text": [
            "root\n",
            " |-- customerID: string (nullable = true)\n",
            " |-- gender: string (nullable = true)\n",
            " |-- SeniorCitizen: integer (nullable = true)\n",
            " |-- Partner: string (nullable = true)\n",
            " |-- Dependents: string (nullable = true)\n",
            " |-- tenure: integer (nullable = true)\n",
            " |-- PhoneService: string (nullable = true)\n",
            " |-- MultipleLines: string (nullable = true)\n",
            " |-- InternetService: string (nullable = true)\n",
            " |-- OnlineSecurity: string (nullable = true)\n",
            " |-- OnlineBackup: string (nullable = true)\n",
            " |-- DeviceProtection: string (nullable = true)\n",
            " |-- TechSupport: string (nullable = true)\n",
            " |-- StreamingTV: string (nullable = true)\n",
            " |-- StreamingMovies: string (nullable = true)\n",
            " |-- Contract: string (nullable = true)\n",
            " |-- PaperlessBilling: string (nullable = true)\n",
            " |-- PaymentMethod: string (nullable = true)\n",
            " |-- MonthlyCharges: double (nullable = true)\n",
            " |-- TotalCharges: double (nullable = true)\n",
            " |-- Churn: string (nullable = true)\n",
            " |-- genderIndex: double (nullable = false)\n",
            " |-- genderCatVec: vector (nullable = true)\n",
            " |-- SeniorCitizenIndex: double (nullable = false)\n",
            " |-- SeniorCitizenCatVec: vector (nullable = true)\n",
            " |-- PartnerIndex: double (nullable = false)\n",
            " |-- PartnerCatVec: vector (nullable = true)\n",
            " |-- DependentsIndex: double (nullable = false)\n",
            " |-- DependentsCatVec: vector (nullable = true)\n",
            " |-- PhoneServiceIndex: double (nullable = false)\n",
            " |-- PhoneServiceCatVec: vector (nullable = true)\n",
            " |-- MultipleLinesIndex: double (nullable = false)\n",
            " |-- MultipleLinesCatVec: vector (nullable = true)\n",
            " |-- InternetServiceIndex: double (nullable = false)\n",
            " |-- InternetServiceCatVec: vector (nullable = true)\n",
            " |-- OnlineSecurityIndex: double (nullable = false)\n",
            " |-- OnlineSecurityCatVec: vector (nullable = true)\n",
            " |-- OnlineBackupIndex: double (nullable = false)\n",
            " |-- OnlineBackupCatVec: vector (nullable = true)\n",
            " |-- DeviceProtectionIndex: double (nullable = false)\n",
            " |-- DeviceProtectionCatVec: vector (nullable = true)\n",
            " |-- TechSupportIndex: double (nullable = false)\n",
            " |-- TechSupportCatVec: vector (nullable = true)\n",
            " |-- StreamingTVIndex: double (nullable = false)\n",
            " |-- StreamingTVCatVec: vector (nullable = true)\n",
            " |-- StreamingMoviesIndex: double (nullable = false)\n",
            " |-- StreamingMoviesCatVec: vector (nullable = true)\n",
            " |-- ContractIndex: double (nullable = false)\n",
            " |-- ContractCatVec: vector (nullable = true)\n",
            " |-- PaperlessBillingIndex: double (nullable = false)\n",
            " |-- PaperlessBillingCatVec: vector (nullable = true)\n",
            " |-- PaymentMethodIndex: double (nullable = false)\n",
            " |-- PaymentMethodCatVec: vector (nullable = true)\n",
            " |-- out_TotalCharges: double (nullable = true)\n",
            " |-- label: double (nullable = false)\n",
            " |-- features: vector (nullable = true)\n",
            "\n",
            "+----------+------+-------------+-------+----------+------+------------+-------------+---------------+--------------+------------+----------------+-----------+-----------+---------------+--------------+----------------+-------------+--------------+------------+-----+-----------+-------------+------------------+-------------------+------------+-------------+---------------+----------------+-----------------+------------------+------------------+-------------------+--------------------+---------------------+-------------------+--------------------+-----------------+------------------+---------------------+----------------------+----------------+-----------------+----------------+-----------------+--------------------+---------------------+-------------+--------------+---------------------+----------------------+------------------+-------------------+----------------+-----+--------------------+\n",
            "|customerID|gender|SeniorCitizen|Partner|Dependents|tenure|PhoneService|MultipleLines|InternetService|OnlineSecurity|OnlineBackup|DeviceProtection|TechSupport|StreamingTV|StreamingMovies|      Contract|PaperlessBilling|PaymentMethod|MonthlyCharges|TotalCharges|Churn|genderIndex| genderCatVec|SeniorCitizenIndex|SeniorCitizenCatVec|PartnerIndex|PartnerCatVec|DependentsIndex|DependentsCatVec|PhoneServiceIndex|PhoneServiceCatVec|MultipleLinesIndex|MultipleLinesCatVec|InternetServiceIndex|InternetServiceCatVec|OnlineSecurityIndex|OnlineSecurityCatVec|OnlineBackupIndex|OnlineBackupCatVec|DeviceProtectionIndex|DeviceProtectionCatVec|TechSupportIndex|TechSupportCatVec|StreamingTVIndex|StreamingTVCatVec|StreamingMoviesIndex|StreamingMoviesCatVec|ContractIndex|ContractCatVec|PaperlessBillingIndex|PaperlessBillingCatVec|PaymentMethodIndex|PaymentMethodCatVec|out_TotalCharges|label|            features|\n",
            "+----------+------+-------------+-------+----------+------+------------+-------------+---------------+--------------+------------+----------------+-----------+-----------+---------------+--------------+----------------+-------------+--------------+------------+-----+-----------+-------------+------------------+-------------------+------------+-------------+---------------+----------------+-----------------+------------------+------------------+-------------------+--------------------+---------------------+-------------------+--------------------+-----------------+------------------+---------------------+----------------------+----------------+-----------------+----------------+-----------------+--------------------+---------------------+-------------+--------------+---------------------+----------------------+------------------+-------------------+----------------+-----+--------------------+\n",
            "|0002-ORFBO|Female|            0|    Yes|       Yes|     9|         Yes|           No|            DSL|            No|         Yes|              No|        Yes|        Yes|             No|      One year|             Yes| Mailed check|          65.6|       593.3|   No|        1.0|    (1,[],[])|               0.0|      (1,[0],[1.0])|         1.0|    (1,[],[])|            1.0|       (1,[],[])|              0.0|     (1,[0],[1.0])|               0.0|      (2,[0],[1.0])|                 1.0|        (2,[1],[1.0])|                0.0|       (2,[0],[1.0])|              1.0|     (2,[1],[1.0])|                  0.0|         (2,[0],[1.0])|             1.0|    (2,[1],[1.0])|             1.0|    (2,[1],[1.0])|                 0.0|        (2,[0],[1.0])|          2.0|     (2,[],[])|                  0.0|         (1,[0],[1.0])|               1.0|      (3,[1],[1.0])|           593.3|  0.0|(30,[1,4,5,8,9,12...|\n",
            "|0003-MKNFE|  Male|            0|     No|        No|     9|         Yes|          Yes|            DSL|            No|          No|              No|         No|         No|            Yes|Month-to-month|              No| Mailed check|          59.9|       542.4|   No|        0.0|(1,[0],[1.0])|               0.0|      (1,[0],[1.0])|         0.0|(1,[0],[1.0])|            0.0|   (1,[0],[1.0])|              0.0|     (1,[0],[1.0])|               1.0|      (2,[1],[1.0])|                 1.0|        (2,[1],[1.0])|                0.0|       (2,[0],[1.0])|              0.0|     (2,[0],[1.0])|                  0.0|         (2,[0],[1.0])|             0.0|    (2,[0],[1.0])|             0.0|    (2,[0],[1.0])|                 1.0|        (2,[1],[1.0])|          0.0| (2,[0],[1.0])|                  1.0|             (1,[],[])|               1.0|      (3,[1],[1.0])|           542.4|  0.0|(30,[0,1,2,3,4,6,...|\n",
            "+----------+------+-------------+-------+----------+------+------------+-------------+---------------+--------------+------------+----------------+-----------+-----------+---------------+--------------+----------------+-------------+--------------+------------+-----+-----------+-------------+------------------+-------------------+------------+-------------+---------------+----------------+-----------------+------------------+------------------+-------------------+--------------------+---------------------+-------------------+--------------------+-----------------+------------------+---------------------+----------------------+----------------+-----------------+----------------+-----------------+--------------------+---------------------+-------------+--------------+---------------------+----------------------+------------------+-------------------+----------------+-----+--------------------+\n",
            "only showing top 2 rows\n",
            "\n"
          ],
          "name": "stdout"
        }
      ]
    },
    {
      "cell_type": "markdown",
      "metadata": {
        "id": "OacA5JQXyl8I",
        "colab_type": "text"
      },
      "source": [
        "## Create and Evaluate Model"
      ]
    },
    {
      "cell_type": "code",
      "metadata": {
        "id": "S3ogk-9_m9Mr",
        "colab_type": "code",
        "colab": {
          "base_uri": "https://localhost:8080/",
          "height": 92
        },
        "outputId": "379bbd5a-f5a4-4e8c-e096-1318a382a409"
      },
      "source": [
        "# Use a Logistic Regression for predictions. By default the Model expects\n",
        "# featuresCol = \"features\" and labelCol = 'label' as is the case here\n",
        "lr = LogisticRegression(maxIter=10)\n",
        "lrModel = lr.fit(trainprepDF)\n",
        "print(\"Coefficients: \" + str(lrModel.coefficients) + \"\\n\")\n",
        "print(\"Intercept: \" + str(lrModel.intercept))"
      ],
      "execution_count": null,
      "outputs": [
        {
          "output_type": "stream",
          "text": [
            "Coefficients: [0.05946136114803455,-0.29241891064154973,-0.12029323140772484,0.15733491377478798,-0.5903291950636831,-0.2449757617526484,0.03510007573305093,0.5779795861943308,-0.3999502503975028,0.25696011918915906,-0.058915444597799384,0.16961535968254524,0.04610671965750975,0.13197667191371776,0.08707917668230207,0.24769411163428737,-0.046803112501746326,-0.016786756121783906,0.23757532076737087,0.019150561711108422,0.1997524502333138,0.6632134186102209,-0.7888506252519402,0.3041116045409074,0.34998134161622413,-0.06537830272858573,0.04827077773964068,-0.030036577453548527,-8.645363213308834e-05,0.005287719940492509]\n",
            "\n",
            "Intercept: -1.152745414953537\n"
          ],
          "name": "stdout"
        }
      ]
    },
    {
      "cell_type": "code",
      "metadata": {
        "id": "_nkR_CGO0fCD",
        "colab_type": "code",
        "colab": {
          "base_uri": "https://localhost:8080/",
          "height": 480
        },
        "outputId": "fca32fa8-86b9-4cd6-da34-5a719d49c3ce"
      },
      "source": [
        "# Analyze Logistic Regression Results for the Training Dataset\n",
        "summary = lrModel.summary\n",
        "\n",
        "accuracy = summary.accuracy\n",
        "falsePositiveRate = summary.weightedFalsePositiveRate\n",
        "truePositiveRate = summary.weightedTruePositiveRate\n",
        "fMeasure = summary.weightedFMeasure()\n",
        "precision = summary.weightedPrecision\n",
        "recall = summary.weightedRecall\n",
        "AreaUnderROC = summary.areaUnderROC\n",
        "\n",
        "print(\"Accuracy: %s\\nFPR: %s\\nTPR: %s\\nF-Measure: %s\\nPrecision: %s\\nRecall: %s\\nAreaUnderRoc: %s\\n\" \n",
        "     % (accuracy, falsePositiveRate, truePositiveRate, fMeasure, precision, recall,AreaUnderROC))\n",
        "\n",
        "plt.figure(figsize=(5,5))\n",
        "plt.plot([0, 1], [0, 1], 'r--')\n",
        "plt.plot(summary.roc.select('FPR').collect(),\n",
        "         summary.roc.select('TPR').collect())\n",
        "plt.xlabel('FPR')\n",
        "plt.ylabel('TPR')\n",
        "plt.show()"
      ],
      "execution_count": null,
      "outputs": [
        {
          "output_type": "stream",
          "text": [
            "Accuracy: 0.8093889113719142\n",
            "FPR: 0.35233467528542006\n",
            "TPR: 0.8093889113719142\n",
            "F-Measure: 0.8037008939706497\n",
            "Precision: 0.8015041615608187\n",
            "Recall: 0.8093889113719142\n",
            "AreaUnderRoc: 0.8520341697473033\n",
            "\n"
          ],
          "name": "stdout"
        },
        {
          "output_type": "display_data",
          "data": {
            "image/png": "[encoded data removed]",
            "text/plain": [
              "<Figure size 360x360 with 1 Axes>"
            ]
          },
          "metadata": {
            "tags": [],
            "needs_background": "light"
          }
        }
      ]
    },
    {
      "cell_type": "code",
      "metadata": {
        "id": "qWiOy5mJ0nEe",
        "colab_type": "code",
        "colab": {
          "base_uri": "https://localhost:8080/",
          "height": 35
        },
        "outputId": "cdfa142c-db86-41e8-ece0-0cd4d9189019"
      },
      "source": [
        "# Evaluate Logistic Regression using the Testing Dataset\n",
        "predictions = lrModel.transform(testprepDF)\n",
        "# The transform method appends 3 new columns to the DF using the LR data, \n",
        "# namely RawPred, Prob, Pred. Therefore it is also possible to add the LogReg \n",
        "# to the Pipeline!\n",
        "evaluatorLR = BinaryClassificationEvaluator()\n",
        "area_under_curve = evaluatorLR.evaluate(predictions)\n",
        "print(\"Test Performance: \" + str(area_under_curve))\n",
        "\n",
        "# ?? NOTE/QUESTION: using rawPredictCol = \"rawPrediction\" the area under curve  \n",
        "# ?? is entirely different, but why? the evaluator can also take in "
      ],
      "execution_count": null,
      "outputs": [
        {
          "output_type": "stream",
          "text": [
            "Test Performance: 0.8267006063616201\n"
          ],
          "name": "stdout"
        }
      ]
    },
    {
      "cell_type": "code",
      "metadata": {
        "id": "vbNWsQddnT3G",
        "colab_type": "code",
        "colab": {
          "base_uri": "https://localhost:8080/",
          "height": 53
        },
        "outputId": "8fee9b24-b402-4023-bbd1-475f3cf5e9d3"
      },
      "source": [
        "# NOTE THIS IS FOR TESTING ONLY. Area under AOC is equal to above if above we\n",
        "# use BinaryClassificationEvaluator(rawPredictionCol=\"prediction\")\n",
        "results = predictions.select([\"prediction\", \"label\"])\n",
        "\n",
        "# prepare score-label set\n",
        "results_collect = results.collect()\n",
        "results_list = [(float(i[0]), float(i[1])) for i in results_collect]\n",
        "predictionAndLabels = sc.parallelize(results_list)\n",
        "\n",
        "metrics = BinaryClassificationMetrics(predictionAndLabels)\n",
        "\n",
        "print(\"Area under Precision-Recall: %s\" % metrics.areaUnderPR)\n",
        "print(\"Area under ROC: %s\" % metrics.areaUnderROC)\n",
        "\n",
        "# areaUnderPR is pretty bad ==> training has overfitted"
      ],
      "execution_count": null,
      "outputs": [
        {
          "output_type": "stream",
          "text": [
            "Area under Precision-Recall: 0.5525483309724795\n",
            "Area under ROC: 0.7147944647944648\n"
          ],
          "name": "stdout"
        }
      ]
    },
    {
      "cell_type": "code",
      "metadata": {
        "id": "c9u8ujdN3p27",
        "colab_type": "code",
        "colab": {
          "base_uri": "https://localhost:8080/",
          "height": 326
        },
        "outputId": "773f227d-01d6-473a-8b47-a572f0ebd9aa"
      },
      "source": [
        "# Analyzing Test-Dataset:\n",
        "# We can see that the Test-DS is imbalanced \n",
        "test_data.groupBy(\"churn\").count().show()\n",
        "\n",
        "count = predictions.count()\n",
        "correct = results.filter(results.prediction == results.label).count()\n",
        "wrong = results.filter(results.prediction != results.label).count()\n",
        "tp = results.filter(results.prediction == 1.0).filter(results.prediction == results.label).count()\n",
        "fp = results.filter(results.prediction == 1.0).filter(results.prediction != results.label).count()\n",
        "tn= results.filter(results.prediction == 0.0).filter(results.prediction == results.label).count()\n",
        "fn = results.filter(results.prediction == 0.0).filter(results.prediction != results.label).count()\n",
        "\n",
        "accuracy = (tp + tn)/count\n",
        "precision = tp/(tp + fp)\n",
        "recall = tp/(tp+fn)\n",
        "\n",
        "print(\"Correct: %s\\nWrong: %s\\ntp: %s\\nfp: %s\\ntn: %s\\nfn: %s\\naccuracy: %s\\nprecision:: %s\\nrecall: %s\\n\"\n",
        "     % (correct, wrong, tp, fp, tn, fn, accuracy, precision, recall))\n",
        "\n",
        "# We can see that accuracy is not a good metric because we have an accuracy rate of ~80% but \n",
        "# precision and recall are both very low!"
      ],
      "execution_count": null,
      "outputs": [
        {
          "output_type": "stream",
          "text": [
            "+-----+-----+\n",
            "|churn|count|\n",
            "+-----+-----+\n",
            "|   No| 1534|\n",
            "|  Yes|  567|\n",
            "+-----+-----+\n",
            "\n",
            "Correct: 1666\n",
            "Wrong: 435\n",
            "tp: 309\n",
            "fp: 177\n",
            "tn: 1357\n",
            "fn: 258\n",
            "accuracy: 0.7929557353641123\n",
            "precision:: 0.6358024691358025\n",
            "recall: 0.544973544973545\n",
            "\n"
          ],
          "name": "stdout"
        }
      ]
    },
    {
      "cell_type": "markdown",
      "metadata": {
        "id": "cZs7lJ0wn319",
        "colab_type": "text"
      },
      "source": [
        "## HyperParameter Tuning"
      ]
    },
    {
      "cell_type": "code",
      "metadata": {
        "id": "SRPGqnI6n5uq",
        "colab_type": "code",
        "colab": {}
      },
      "source": [
        "# Perform CrossValidation and look for the best parameter combination\n",
        "# Create Parameter Grid for Cross Validation\n",
        "paramGrid = (ParamGridBuilder()\n",
        "            .addGrid(lr.regParam, [0.01, 0.5, 2.0])\n",
        "            .addGrid(lr.elasticNetParam, [0.0, 0.5, 1.0])\n",
        "            .addGrid(lr.maxIter, [5, 10, 15])\n",
        "            .build())\n",
        "\n",
        "# Use 5-Fold CrossValidation to test the parameter combinations\n",
        "cv = CrossValidator(estimator=lr, estimatorParamMaps=paramGrid, \n",
        "                    evaluator = evaluatorLR)\n",
        "cvModel = cv.fit(trainprepDF)"
      ],
      "execution_count": null,
      "outputs": []
    },
    {
      "cell_type": "code",
      "metadata": {
        "id": "LCon4VikwRBr",
        "colab_type": "code",
        "colab": {
          "base_uri": "https://localhost:8080/",
          "height": 35
        },
        "outputId": "7fac9406-f8d8-4e7a-c45c-3e3001d924a2"
      },
      "source": [
        "# Evaluate Results with optimal parameters\n",
        "predictions = cvModel.bestModel.transform(testprepDF)\n",
        "evaluatorLR.evaluate(predictions)"
      ],
      "execution_count": null,
      "outputs": [
        {
          "output_type": "execute_result",
          "data": {
            "text/plain": [
              "0.8282487025424852"
            ]
          },
          "metadata": {
            "tags": []
          },
          "execution_count": 23
        }
      ]
    },
    {
      "cell_type": "code",
      "metadata": {
        "id": "kzXdFmDauLe1",
        "colab_type": "code",
        "colab": {
          "base_uri": "https://localhost:8080/",
          "height": 480
        },
        "outputId": "e7a74e03-f72b-42af-d8df-c0c4988a77b1"
      },
      "source": [
        "# Analyze Logistic Regression Results for the Training Dataset\n",
        "summary = cvModel.bestModel.summary\n",
        "\n",
        "accuracy = summary.accuracy\n",
        "falsePositiveRate = summary.weightedFalsePositiveRate\n",
        "truePositiveRate = summary.weightedTruePositiveRate\n",
        "fMeasure = summary.weightedFMeasure()\n",
        "precision = summary.weightedPrecision\n",
        "recall = summary.weightedRecall\n",
        "AreaUnderROC = summary.areaUnderROC\n",
        "\n",
        "print(\"Accuracy: %s\\nFPR: %s\\nTPR: %s\\nF-Measure: %s\\nPrecision: %s\\nRecall: %s\\nAreaUnderRoc: %s\\n\" \n",
        "     % (accuracy, falsePositiveRate, truePositiveRate, fMeasure, precision, recall,AreaUnderROC))\n",
        "\n",
        "plt.figure(figsize=(5,5))\n",
        "plt.plot([0, 1], [0, 1], 'r--')\n",
        "plt.plot(summary.roc.select('FPR').collect(),\n",
        "         summary.roc.select('TPR').collect())\n",
        "plt.xlabel('FPR')\n",
        "plt.ylabel('TPR')\n",
        "plt.show()"
      ],
      "execution_count": null,
      "outputs": [
        {
          "output_type": "stream",
          "text": [
            "Accuracy: 0.8087818696883853\n",
            "FPR: 0.3579783721106941\n",
            "TPR: 0.8087818696883853\n",
            "F-Measure: 0.8024789075235855\n",
            "Precision: 0.8003519080451709\n",
            "Recall: 0.8087818696883853\n",
            "AreaUnderRoc: 0.8527074787731468\n",
            "\n"
          ],
          "name": "stdout"
        },
        {
          "output_type": "display_data",
          "data": {
            "image/png": "[encoded data removed]",
            "text/plain": [
              "<Figure size 360x360 with 1 Axes>"
            ]
          },
          "metadata": {
            "tags": [],
            "needs_background": "light"
          }
        }
      ]
    },
    {
      "cell_type": "markdown",
      "metadata": {
        "id": "dyA-qnAzxrCd",
        "colab_type": "text"
      },
      "source": [
        "## Different Classifier"
      ]
    },
    {
      "cell_type": "code",
      "metadata": {
        "id": "56YzTCLsd-dC",
        "colab_type": "code",
        "colab": {}
      },
      "source": [
        "rf = RandomForestClassifier()\n",
        "\n",
        "paramGrid = (ParamGridBuilder()\n",
        "            .addGrid(rf.impurity, [\"gini\", \"entropy\"])\n",
        "            .addGrid(rf.numTrees, [20, 40, 60])\n",
        "            .addGrid(rf.maxDepth, [5, 10, 15])\n",
        "            .build())\n",
        "\n",
        "# Use 5-Fold CrossValidation to test the parameter combinations\n",
        "cv = CrossValidator(estimator=rf, estimatorParamMaps=paramGrid, \n",
        "                    evaluator = evaluatorLR)\n",
        "cvModel = cv.fit(trainprepDF)"
      ],
      "execution_count": null,
      "outputs": []
    },
    {
      "cell_type": "code",
      "metadata": {
        "id": "so-cYPCdeVEi",
        "colab_type": "code",
        "colab": {
          "base_uri": "https://localhost:8080/",
          "height": 35
        },
        "outputId": "01a849e5-029d-4b16-db7c-95d20f42f7e8"
      },
      "source": [
        "predictions = cvModel.bestModel.transform(testprepDF)\n",
        "evaluatorLR.evaluate(predictions)"
      ],
      "execution_count": null,
      "outputs": [
        {
          "output_type": "execute_result",
          "data": {
            "text/plain": [
              "0.8328395291672123"
            ]
          },
          "metadata": {
            "tags": []
          },
          "execution_count": 28
        }
      ]
    },
    {
      "cell_type": "code",
      "metadata": {
        "id": "2hu4a_nXedT4",
        "colab_type": "code",
        "colab": {}
      },
      "source": [
        "cvModel.extractParamMap()"
      ],
      "execution_count": null,
      "outputs": []
    },
    {
      "cell_type": "code",
      "metadata": {
        "id": "ovLifjfh1vpm",
        "colab_type": "code",
        "colab": {
          "base_uri": "https://localhost:8080/",
          "height": 244
        },
        "outputId": "feb21e0f-e714-4215-fbe1-b614da56a853"
      },
      "source": [
        "# Analyzing Test-Dataset:\n",
        "# We can see that the Test-DS is imbalanced \n",
        "results = predictions.select(\"prediction\",\"label\")\n",
        "\n",
        "count = predictions.count()\n",
        "correct = results.filter(results.prediction == results.label).count()\n",
        "wrong = results.filter(results.prediction != results.label).count()\n",
        "tp = results.filter(results.prediction == 1.0).filter(results.prediction == results.label).count()\n",
        "fp = results.filter(results.prediction == 1.0).filter(results.prediction != results.label).count()\n",
        "tn= results.filter(results.prediction == 0.0).filter(results.prediction == results.label).count()\n",
        "fn = results.filter(results.prediction == 0.0).filter(results.prediction != results.label).count()\n",
        "\n",
        "accuracy = (tp + tn)/count\n",
        "precision = tp/(tp + fp)\n",
        "recall = tp/(tp+fn)\n",
        "\n",
        "print(\"Correct: %s\\nWrong: %s\\ntp: %s\\nfp: %s\\ntn: %s\\nfn: %s\\naccuracy: %s\\nprecision:: %s\\nrecall: %s\\n\"\n",
        "     % (correct, wrong, tp, fp, tn, fn, accuracy, precision, recall))\n",
        "\n",
        "# We can see that accuracy is not a good metric because we have an accuracy rate of ~80% but \n",
        "# precision and recall are both very low!"
      ],
      "execution_count": null,
      "outputs": [
        {
          "output_type": "error",
          "ename": "NameError",
          "evalue": "ignored",
          "traceback": [
            "\u001b[0;31m---------------------------------------------------------------------------\u001b[0m",
            "\u001b[0;31mNameError\u001b[0m                                 Traceback (most recent call last)",
            "\u001b[0;32m<ipython-input-28-07f05eeb8b4e>\u001b[0m in \u001b[0;36m<module>\u001b[0;34m()\u001b[0m\n\u001b[1;32m      1\u001b[0m \u001b[0;31m# Analyzing Test-Dataset:\u001b[0m\u001b[0;34m\u001b[0m\u001b[0;34m\u001b[0m\u001b[0;34m\u001b[0m\u001b[0m\n\u001b[1;32m      2\u001b[0m \u001b[0;31m# We can see that the Test-DS is imbalanced\u001b[0m\u001b[0;34m\u001b[0m\u001b[0;34m\u001b[0m\u001b[0;34m\u001b[0m\u001b[0m\n\u001b[0;32m----> 3\u001b[0;31m \u001b[0mresults\u001b[0m \u001b[0;34m=\u001b[0m \u001b[0mpredictions\u001b[0m\u001b[0;34m.\u001b[0m\u001b[0mselect\u001b[0m\u001b[0;34m(\u001b[0m\u001b[0;34m\"prediction\"\u001b[0m\u001b[0;34m,\u001b[0m\u001b[0;34m\"label\"\u001b[0m\u001b[0;34m)\u001b[0m\u001b[0;34m\u001b[0m\u001b[0;34m\u001b[0m\u001b[0m\n\u001b[0m\u001b[1;32m      4\u001b[0m \u001b[0;34m\u001b[0m\u001b[0m\n\u001b[1;32m      5\u001b[0m \u001b[0mcount\u001b[0m \u001b[0;34m=\u001b[0m \u001b[0mpredictions\u001b[0m\u001b[0;34m.\u001b[0m\u001b[0mcount\u001b[0m\u001b[0;34m(\u001b[0m\u001b[0;34m)\u001b[0m\u001b[0;34m\u001b[0m\u001b[0;34m\u001b[0m\u001b[0m\n",
            "\u001b[0;31mNameError\u001b[0m: name 'predictions' is not defined"
          ]
        }
      ]
    },
    {
      "cell_type": "code",
      "metadata": {
        "id": "xBZ_f8ad2E1h",
        "colab_type": "code",
        "colab": {}
      },
      "source": [
        "from pyspark.ml.classification import GBTClassifier\n",
        "\n",
        "gbt = GBTClassifier()\n",
        "\n",
        "paramGrid = (ParamGridBuilder()\n",
        "            .addGrid(gbt.maxIter, [20, 30, 40])\n",
        "            .build())\n",
        "\n",
        "# Use 5-Fold CrossValidation to test the parameter combinations\n",
        "cv = CrossValidator(estimator=gbt, estimatorParamMaps=paramGrid, \n",
        "                    evaluator = evaluatorLR, numFolds = 3, parallelism = 3)\n",
        "cvModel = cv.fit(trainprepDF)"
      ],
      "execution_count": null,
      "outputs": []
    },
    {
      "cell_type": "code",
      "metadata": {
        "id": "fSGBwckmc63S",
        "colab_type": "code",
        "colab": {
          "base_uri": "https://localhost:8080/",
          "height": 35
        },
        "outputId": "3f320c43-8418-4f2a-95b3-b8abb356061f"
      },
      "source": [
        "predictions = cvModel.bestModel.transform(testprepDF)\n",
        "evaluatorLR.evaluate(predictions)"
      ],
      "execution_count": null,
      "outputs": [
        {
          "output_type": "execute_result",
          "data": {
            "text/plain": [
              "0.8305768828367697"
            ]
          },
          "metadata": {
            "tags": []
          },
          "execution_count": 34
        }
      ]
    },
    {
      "cell_type": "code",
      "metadata": {
        "id": "KfkS37iAdvfa",
        "colab_type": "code",
        "colab": {}
      },
      "source": [
        "df_pd = df.select(\"PaymentMethod\",\"churn\").groupBy(\"PaymentMethod\",\"churn\").count().toPandas()"
      ],
      "execution_count": null,
      "outputs": []
    },
    {
      "cell_type": "code",
      "metadata": {
        "id": "NdDVKMxHsk_f",
        "colab_type": "code",
        "colab": {
          "base_uri": "https://localhost:8080/",
          "height": 300
        },
        "outputId": "29d6f80e-17b5-4445-ea1a-a43fd5554722"
      },
      "source": [
        "df_pd"
      ],
      "execution_count": null,
      "outputs": [
        {
          "output_type": "execute_result",
          "data": {
            "text/html": [
              "<div>\n",
              "<style scoped>\n",
              "    .dataframe tbody tr th:only-of-type {\n",
              "        vertical-align: middle;\n",
              "    }\n",
              "\n",
              "    .dataframe tbody tr th {\n",
              "        vertical-align: top;\n",
              "    }\n",
              "\n",
              "    .dataframe thead th {\n",
              "        text-align: right;\n",
              "    }\n",
              "</style>\n",
              "<table border=\"1\" class=\"dataframe\">\n",
              "  <thead>\n",
              "    <tr style=\"text-align: right;\">\n",
              "      <th></th>\n",
              "      <th>PaymentMethod</th>\n",
              "      <th>churn</th>\n",
              "      <th>count</th>\n",
              "    </tr>\n",
              "  </thead>\n",
              "  <tbody>\n",
              "    <tr>\n",
              "      <th>0</th>\n",
              "      <td>Credit card (automatic)</td>\n",
              "      <td>No</td>\n",
              "      <td>1290</td>\n",
              "    </tr>\n",
              "    <tr>\n",
              "      <th>1</th>\n",
              "      <td>Bank transfer (automatic)</td>\n",
              "      <td>No</td>\n",
              "      <td>1286</td>\n",
              "    </tr>\n",
              "    <tr>\n",
              "      <th>2</th>\n",
              "      <td>Mailed check</td>\n",
              "      <td>Yes</td>\n",
              "      <td>308</td>\n",
              "    </tr>\n",
              "    <tr>\n",
              "      <th>3</th>\n",
              "      <td>Credit card (automatic)</td>\n",
              "      <td>Yes</td>\n",
              "      <td>232</td>\n",
              "    </tr>\n",
              "    <tr>\n",
              "      <th>4</th>\n",
              "      <td>Electronic check</td>\n",
              "      <td>No</td>\n",
              "      <td>1294</td>\n",
              "    </tr>\n",
              "    <tr>\n",
              "      <th>5</th>\n",
              "      <td>Electronic check</td>\n",
              "      <td>Yes</td>\n",
              "      <td>1071</td>\n",
              "    </tr>\n",
              "    <tr>\n",
              "      <th>6</th>\n",
              "      <td>Bank transfer (automatic)</td>\n",
              "      <td>Yes</td>\n",
              "      <td>258</td>\n",
              "    </tr>\n",
              "    <tr>\n",
              "      <th>7</th>\n",
              "      <td>Mailed check</td>\n",
              "      <td>No</td>\n",
              "      <td>1304</td>\n",
              "    </tr>\n",
              "  </tbody>\n",
              "</table>\n",
              "</div>"
            ],
            "text/plain": [
              "               PaymentMethod churn  count\n",
              "0    Credit card (automatic)    No   1290\n",
              "1  Bank transfer (automatic)    No   1286\n",
              "2               Mailed check   Yes    308\n",
              "3    Credit card (automatic)   Yes    232\n",
              "4           Electronic check    No   1294\n",
              "5           Electronic check   Yes   1071\n",
              "6  Bank transfer (automatic)   Yes    258\n",
              "7               Mailed check    No   1304"
            ]
          },
          "metadata": {
            "tags": []
          },
          "execution_count": 40
        }
      ]
    },
    {
      "cell_type": "code",
      "metadata": {
        "id": "MwyXUmSIsmag",
        "colab_type": "code",
        "colab": {
          "base_uri": "https://localhost:8080/",
          "height": 35
        },
        "outputId": "f86943fc-5db4-4312-8990-8b3903ed67bd"
      },
      "source": [
        ""
      ],
      "execution_count": null,
      "outputs": [
        {
          "output_type": "execute_result",
          "data": {
            "text/plain": [
              "pandas.core.frame.DataFrame"
            ]
          },
          "metadata": {
            "tags": []
          },
          "execution_count": 41
        }
      ]
    },
    {
      "cell_type": "code",
      "metadata": {
        "id": "jLbeRs1I6urk",
        "colab_type": "code",
        "colab": {}
      },
      "source": [
        "import pandas as pd\n",
        "from IPython.display import display, HTML\n",
        "\n",
        "# Load Data\n",
        "url = \"https://raw.githubusercontent.com/treselle-systems/customer_churn_analysis/master/WA_Fn-UseC_-Telco-Customer-Churn.csv\"\n",
        "\n",
        "df = pd.read_csv(url)"
      ],
      "execution_count": null,
      "outputs": []
    },
    {
      "cell_type": "code",
      "metadata": {
        "id": "0m2cF1Y56yg_",
        "colab_type": "code",
        "colab": {}
      },
      "source": [
        "df2 = df[[\"PaymentMethod\",\"Churn\"]].groupby([\"PaymentMethod\",\"Churn\"])[\"Churn\"].count().to_frame(\"count\")"
      ],
      "execution_count": null,
      "outputs": []
    },
    {
      "cell_type": "code",
      "metadata": {
        "id": "f7woSdYg60eu",
        "colab_type": "code",
        "colab": {
          "base_uri": "https://localhost:8080/",
          "height": 332
        },
        "outputId": "f921c009-f0e1-4826-bdf2-5df82bca54fa"
      },
      "source": [
        "df2"
      ],
      "execution_count": null,
      "outputs": [
        {
          "output_type": "execute_result",
          "data": {
            "text/html": [
              "<div>\n",
              "<style scoped>\n",
              "    .dataframe tbody tr th:only-of-type {\n",
              "        vertical-align: middle;\n",
              "    }\n",
              "\n",
              "    .dataframe tbody tr th {\n",
              "        vertical-align: top;\n",
              "    }\n",
              "\n",
              "    .dataframe thead th {\n",
              "        text-align: right;\n",
              "    }\n",
              "</style>\n",
              "<table border=\"1\" class=\"dataframe\">\n",
              "  <thead>\n",
              "    <tr style=\"text-align: right;\">\n",
              "      <th></th>\n",
              "      <th></th>\n",
              "      <th>count</th>\n",
              "    </tr>\n",
              "    <tr>\n",
              "      <th>PaymentMethod</th>\n",
              "      <th>Churn</th>\n",
              "      <th></th>\n",
              "    </tr>\n",
              "  </thead>\n",
              "  <tbody>\n",
              "    <tr>\n",
              "      <th rowspan=\"2\" valign=\"top\">Bank transfer (automatic)</th>\n",
              "      <th>No</th>\n",
              "      <td>1286</td>\n",
              "    </tr>\n",
              "    <tr>\n",
              "      <th>Yes</th>\n",
              "      <td>258</td>\n",
              "    </tr>\n",
              "    <tr>\n",
              "      <th rowspan=\"2\" valign=\"top\">Credit card (automatic)</th>\n",
              "      <th>No</th>\n",
              "      <td>1290</td>\n",
              "    </tr>\n",
              "    <tr>\n",
              "      <th>Yes</th>\n",
              "      <td>232</td>\n",
              "    </tr>\n",
              "    <tr>\n",
              "      <th rowspan=\"2\" valign=\"top\">Electronic check</th>\n",
              "      <th>No</th>\n",
              "      <td>1294</td>\n",
              "    </tr>\n",
              "    <tr>\n",
              "      <th>Yes</th>\n",
              "      <td>1071</td>\n",
              "    </tr>\n",
              "    <tr>\n",
              "      <th rowspan=\"2\" valign=\"top\">Mailed check</th>\n",
              "      <th>No</th>\n",
              "      <td>1304</td>\n",
              "    </tr>\n",
              "    <tr>\n",
              "      <th>Yes</th>\n",
              "      <td>308</td>\n",
              "    </tr>\n",
              "  </tbody>\n",
              "</table>\n",
              "</div>"
            ],
            "text/plain": [
              "                                 count\n",
              "PaymentMethod             Churn       \n",
              "Bank transfer (automatic) No      1286\n",
              "                          Yes      258\n",
              "Credit card (automatic)   No      1290\n",
              "                          Yes      232\n",
              "Electronic check          No      1294\n",
              "                          Yes     1071\n",
              "Mailed check              No      1304\n",
              "                          Yes      308"
            ]
          },
          "metadata": {
            "tags": []
          },
          "execution_count": 27
        }
      ]
    },
    {
      "cell_type": "code",
      "metadata": {
        "id": "2ox8MUIP60_I",
        "colab_type": "code",
        "colab": {
          "base_uri": "https://localhost:8080/",
          "height": 300
        },
        "outputId": "814fc052-724d-44d9-e790-ce7e8ef8d0d1"
      },
      "source": [
        ""
      ],
      "execution_count": null,
      "outputs": [
        {
          "output_type": "execute_result",
          "data": {
            "text/html": [
              "<div>\n",
              "<style scoped>\n",
              "    .dataframe tbody tr th:only-of-type {\n",
              "        vertical-align: middle;\n",
              "    }\n",
              "\n",
              "    .dataframe tbody tr th {\n",
              "        vertical-align: top;\n",
              "    }\n",
              "\n",
              "    .dataframe thead th {\n",
              "        text-align: right;\n",
              "    }\n",
              "</style>\n",
              "<table border=\"1\" class=\"dataframe\">\n",
              "  <thead>\n",
              "    <tr style=\"text-align: right;\">\n",
              "      <th></th>\n",
              "      <th>PaymentMethod</th>\n",
              "      <th>Churn</th>\n",
              "      <th>count</th>\n",
              "    </tr>\n",
              "  </thead>\n",
              "  <tbody>\n",
              "    <tr>\n",
              "      <th>0</th>\n",
              "      <td>Bank transfer (automatic)</td>\n",
              "      <td>No</td>\n",
              "      <td>1286</td>\n",
              "    </tr>\n",
              "    <tr>\n",
              "      <th>1</th>\n",
              "      <td>Bank transfer (automatic)</td>\n",
              "      <td>Yes</td>\n",
              "      <td>258</td>\n",
              "    </tr>\n",
              "    <tr>\n",
              "      <th>2</th>\n",
              "      <td>Credit card (automatic)</td>\n",
              "      <td>No</td>\n",
              "      <td>1290</td>\n",
              "    </tr>\n",
              "    <tr>\n",
              "      <th>3</th>\n",
              "      <td>Credit card (automatic)</td>\n",
              "      <td>Yes</td>\n",
              "      <td>232</td>\n",
              "    </tr>\n",
              "    <tr>\n",
              "      <th>4</th>\n",
              "      <td>Electronic check</td>\n",
              "      <td>No</td>\n",
              "      <td>1294</td>\n",
              "    </tr>\n",
              "    <tr>\n",
              "      <th>5</th>\n",
              "      <td>Electronic check</td>\n",
              "      <td>Yes</td>\n",
              "      <td>1071</td>\n",
              "    </tr>\n",
              "    <tr>\n",
              "      <th>6</th>\n",
              "      <td>Mailed check</td>\n",
              "      <td>No</td>\n",
              "      <td>1304</td>\n",
              "    </tr>\n",
              "    <tr>\n",
              "      <th>7</th>\n",
              "      <td>Mailed check</td>\n",
              "      <td>Yes</td>\n",
              "      <td>308</td>\n",
              "    </tr>\n",
              "  </tbody>\n",
              "</table>\n",
              "</div>"
            ],
            "text/plain": [
              "               PaymentMethod Churn  count\n",
              "0  Bank transfer (automatic)    No   1286\n",
              "1  Bank transfer (automatic)   Yes    258\n",
              "2    Credit card (automatic)    No   1290\n",
              "3    Credit card (automatic)   Yes    232\n",
              "4           Electronic check    No   1294\n",
              "5           Electronic check   Yes   1071\n",
              "6               Mailed check    No   1304\n",
              "7               Mailed check   Yes    308"
            ]
          },
          "metadata": {
            "tags": []
          },
          "execution_count": 28
        }
      ]
    },
    {
      "cell_type": "code",
      "metadata": {
        "id": "OWXMXOP6wTWK",
        "colab_type": "code",
        "colab": {}
      },
      "source": [
        ""
      ],
      "execution_count": null,
      "outputs": []
    }
  ]
}