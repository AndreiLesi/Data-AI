{
  "nbformat": 4,
  "nbformat_minor": 0,
  "metadata": {
    "colab": {
      "name": "churnAnalysis_spark.ipynb",
      "provenance": [],
      "collapsed_sections": [],
      "authorship_tag": "ABX9TyPLVt0JuSZ9q2qoFd8z5Fu8",
      "include_colab_link": true
    },
    "kernelspec": {
      "name": "python3",
      "display_name": "Python 3"
    },
    "accelerator": "GPU"
  },
  "cells": [
    {
      "cell_type": "markdown",
      "metadata": {
        "id": "view-in-github",
        "colab_type": "text"
      },
      "source": [
        "<a href=\"https://colab.research.google.com/github/AndreiLesi/Data-Engineering/blob/master/churnAnalysis_spark.ipynb\" target=\"_parent\"><img src=\"https://colab.research.google.com/assets/colab-badge.svg\" alt=\"Open In Colab\"/></a>"
      ]
    },
    {
      "cell_type": "markdown",
      "metadata": {
        "id": "dkmfTE0Rfk1R",
        "colab_type": "text"
      },
      "source": [
        "# Initialize Spark"
      ]
    },
    {
      "cell_type": "code",
      "metadata": {
        "id": "lNi43QQmftMH",
        "colab_type": "code",
        "colab": {
          "base_uri": "https://localhost:8080/",
          "height": 72
        },
        "outputId": "f412e73f-d846-45f1-9146-adbf38cdf922"
      },
      "source": [
        "!pip install -q pyspark"
      ],
      "execution_count": null,
      "outputs": [
        {
          "output_type": "stream",
          "text": [
            "\u001b[K     |████████████████████████████████| 204.7MB 72kB/s \n",
            "\u001b[K     |████████████████████████████████| 204kB 40.1MB/s \n",
            "\u001b[?25h  Building wheel for pyspark (setup.py) ... \u001b[?25l\u001b[?25hdone\n"
          ],
          "name": "stdout"
        }
      ]
    },
    {
      "cell_type": "code",
      "metadata": {
        "id": "g7q6IM1PfmK_",
        "colab_type": "code",
        "colab": {}
      },
      "source": [
        "import pyspark\n",
        "import random\n",
        "from pyspark.sql import SparkSession\n",
        "from pyspark.sql.types import *\n",
        "\n",
        "spark = SparkSession.builder.appName(\"PySpark\").getOrCreate()\n",
        "sc = pyspark.SparkContext.getOrCreate()"
      ],
      "execution_count": null,
      "outputs": []
    },
    {
      "cell_type": "markdown",
      "metadata": {
        "id": "JLBhNE4D_pJa",
        "colab_type": "text"
      },
      "source": [
        "# Churn Analysis"
      ]
    },
    {
      "cell_type": "code",
      "metadata": {
        "id": "VFWXli4H3nk9",
        "colab_type": "code",
        "colab": {}
      },
      "source": [
        "import pandas as pd\n",
        "from pyspark import SparkFiles\n",
        "import matplotlib.pyplot as plt\n",
        "from pyspark.ml import Pipeline\n",
        "from pyspark.ml.feature import OneHotEncoder, StringIndexer, VectorAssembler,\\\n",
        "                               Imputer\n",
        "from pyspark.sql.functions import isnan, when, count, col\n",
        "from pyspark.ml.classification import LogisticRegression, RandomForestClassifier\n",
        "from pyspark.ml.evaluation import BinaryClassificationEvaluator\n",
        "from pyspark.ml.tuning import ParamGridBuilder, CrossValidator\n",
        "from pyspark.mllib.evaluation import BinaryClassificationMetrics"
      ],
      "execution_count": null,
      "outputs": []
    },
    {
      "cell_type": "markdown",
      "metadata": {
        "id": "3ri3aCEdA8Ex",
        "colab_type": "text"
      },
      "source": [
        "## Load Data"
      ]
    },
    {
      "cell_type": "code",
      "metadata": {
        "id": "9pnbhZTQ_tnp",
        "colab_type": "code",
        "colab": {}
      },
      "source": [
        "# Goal: Predict if a customer will churn/cancel subscription or not based on a \n",
        "# number of parameters\n",
        "# Read Dataset\n",
        "url = \"https://raw.githubusercontent.com/treselle-systems/\" + \\\n",
        "      \"customer_churn_analysis/master/WA_Fn-UseC_-Telco-Customer-Churn.csv\"\n",
        "\n",
        "spark.sparkContext.addFile(url)\n",
        "\n",
        "df = spark.read.option(\"inferSchema\", True) \\\n",
        "    .option(\"header\", True) \\\n",
        "    .option(\"nanValue\", \" \") \\\n",
        "    .option(\"nullValue\", \" \") \\\n",
        "    .csv(\"file://\"+SparkFiles.get(\"WA_Fn-UseC_-Telco-Customer-Churn.csv\"))"
      ],
      "execution_count": null,
      "outputs": []
    },
    {
      "cell_type": "code",
      "metadata": {
        "id": "CjefPHkSAKkV",
        "colab_type": "code",
        "colab": {
          "base_uri": "https://localhost:8080/",
          "height": 790
        },
        "outputId": "1a5b9e31-60b6-4709-fa43-91e870c65885"
      },
      "source": [
        "# Dataframe Bassic Information\n",
        "df.printSchema()\n",
        "df.show(10)\n",
        "display(\"Number of Entries: \",df.count())"
      ],
      "execution_count": null,
      "outputs": [
        {
          "output_type": "stream",
          "text": [
            "root\n",
            " |-- customerID: string (nullable = true)\n",
            " |-- gender: string (nullable = true)\n",
            " |-- SeniorCitizen: integer (nullable = true)\n",
            " |-- Partner: string (nullable = true)\n",
            " |-- Dependents: string (nullable = true)\n",
            " |-- tenure: integer (nullable = true)\n",
            " |-- PhoneService: string (nullable = true)\n",
            " |-- MultipleLines: string (nullable = true)\n",
            " |-- InternetService: string (nullable = true)\n",
            " |-- OnlineSecurity: string (nullable = true)\n",
            " |-- OnlineBackup: string (nullable = true)\n",
            " |-- DeviceProtection: string (nullable = true)\n",
            " |-- TechSupport: string (nullable = true)\n",
            " |-- StreamingTV: string (nullable = true)\n",
            " |-- StreamingMovies: string (nullable = true)\n",
            " |-- Contract: string (nullable = true)\n",
            " |-- PaperlessBilling: string (nullable = true)\n",
            " |-- PaymentMethod: string (nullable = true)\n",
            " |-- MonthlyCharges: double (nullable = true)\n",
            " |-- TotalCharges: double (nullable = true)\n",
            " |-- Churn: string (nullable = true)\n",
            "\n",
            "+----------+------+-------------+-------+----------+------+------------+----------------+---------------+--------------+------------+----------------+-----------+-----------+---------------+--------------+----------------+--------------------+--------------+------------+-----+\n",
            "|customerID|gender|SeniorCitizen|Partner|Dependents|tenure|PhoneService|   MultipleLines|InternetService|OnlineSecurity|OnlineBackup|DeviceProtection|TechSupport|StreamingTV|StreamingMovies|      Contract|PaperlessBilling|       PaymentMethod|MonthlyCharges|TotalCharges|Churn|\n",
            "+----------+------+-------------+-------+----------+------+------------+----------------+---------------+--------------+------------+----------------+-----------+-----------+---------------+--------------+----------------+--------------------+--------------+------------+-----+\n",
            "|7590-VHVEG|Female|            0|    Yes|        No|     1|          No|No phone service|            DSL|            No|         Yes|              No|         No|         No|             No|Month-to-month|             Yes|    Electronic check|         29.85|       29.85|   No|\n",
            "|5575-GNVDE|  Male|            0|     No|        No|    34|         Yes|              No|            DSL|           Yes|          No|             Yes|         No|         No|             No|      One year|              No|        Mailed check|         56.95|      1889.5|   No|\n",
            "|3668-QPYBK|  Male|            0|     No|        No|     2|         Yes|              No|            DSL|           Yes|         Yes|              No|         No|         No|             No|Month-to-month|             Yes|        Mailed check|         53.85|      108.15|  Yes|\n",
            "|7795-CFOCW|  Male|            0|     No|        No|    45|          No|No phone service|            DSL|           Yes|          No|             Yes|        Yes|         No|             No|      One year|              No|Bank transfer (au...|          42.3|     1840.75|   No|\n",
            "|9237-HQITU|Female|            0|     No|        No|     2|         Yes|              No|    Fiber optic|            No|          No|              No|         No|         No|             No|Month-to-month|             Yes|    Electronic check|          70.7|      151.65|  Yes|\n",
            "|9305-CDSKC|Female|            0|     No|        No|     8|         Yes|             Yes|    Fiber optic|            No|          No|             Yes|         No|        Yes|            Yes|Month-to-month|             Yes|    Electronic check|         99.65|       820.5|  Yes|\n",
            "|1452-KIOVK|  Male|            0|     No|       Yes|    22|         Yes|             Yes|    Fiber optic|            No|         Yes|              No|         No|        Yes|             No|Month-to-month|             Yes|Credit card (auto...|          89.1|      1949.4|   No|\n",
            "|6713-OKOMC|Female|            0|     No|        No|    10|          No|No phone service|            DSL|           Yes|          No|              No|         No|         No|             No|Month-to-month|              No|        Mailed check|         29.75|       301.9|   No|\n",
            "|7892-POOKP|Female|            0|    Yes|        No|    28|         Yes|             Yes|    Fiber optic|            No|          No|             Yes|        Yes|        Yes|            Yes|Month-to-month|             Yes|    Electronic check|         104.8|     3046.05|  Yes|\n",
            "|6388-TABGU|  Male|            0|     No|       Yes|    62|         Yes|              No|            DSL|           Yes|         Yes|              No|         No|         No|             No|      One year|              No|Bank transfer (au...|         56.15|     3487.95|   No|\n",
            "+----------+------+-------------+-------+----------+------+------------+----------------+---------------+--------------+------------+----------------+-----------+-----------+---------------+--------------+----------------+--------------------+--------------+------------+-----+\n",
            "only showing top 10 rows\n",
            "\n"
          ],
          "name": "stdout"
        },
        {
          "output_type": "display_data",
          "data": {
            "application/vnd.google.colaboratory.intrinsic+json": {
              "type": "string"
            },
            "text/plain": [
              "'Number of Entries: '"
            ]
          },
          "metadata": {
            "tags": []
          }
        },
        {
          "output_type": "display_data",
          "data": {
            "text/plain": [
              "7043"
            ]
          },
          "metadata": {
            "tags": []
          }
        }
      ]
    },
    {
      "cell_type": "markdown",
      "metadata": {
        "id": "lbOYGumQA3zX",
        "colab_type": "text"
      },
      "source": [
        "## Analyze Data"
      ]
    },
    {
      "cell_type": "code",
      "metadata": {
        "id": "gTgEwPlSAhqR",
        "colab_type": "code",
        "colab": {
          "base_uri": "https://localhost:8080/",
          "height": 146
        },
        "outputId": "3cb43c32-835a-4489-9c12-0f5832db0f73"
      },
      "source": [
        "# Check if Null Values exist\n",
        "df.select([count(when(isnan(c) | col(c).isNull(), c)).alias(c) for c in df.columns]).show()\n",
        "\n",
        "# ==> In TotalCharges, 11 Rows are None, we will replace those later on"
      ],
      "execution_count": null,
      "outputs": [
        {
          "output_type": "stream",
          "text": [
            "+----------+------+-------------+-------+----------+------+------------+-------------+---------------+--------------+------------+----------------+-----------+-----------+---------------+--------+----------------+-------------+--------------+------------+-----+\n",
            "|customerID|gender|SeniorCitizen|Partner|Dependents|tenure|PhoneService|MultipleLines|InternetService|OnlineSecurity|OnlineBackup|DeviceProtection|TechSupport|StreamingTV|StreamingMovies|Contract|PaperlessBilling|PaymentMethod|MonthlyCharges|TotalCharges|Churn|\n",
            "+----------+------+-------------+-------+----------+------+------------+-------------+---------------+--------------+------------+----------------+-----------+-----------+---------------+--------+----------------+-------------+--------------+------------+-----+\n",
            "|         0|     0|            0|      0|         0|     0|           0|            0|              0|             0|           0|               0|          0|          0|              0|       0|               0|            0|             0|          11|    0|\n",
            "+----------+------+-------------+-------+----------+------+------------+-------------+---------------+--------------+------------+----------------+-----------+-----------+---------------+--------+----------------+-------------+--------------+------------+-----+\n",
            "\n"
          ],
          "name": "stdout"
        }
      ]
    },
    {
      "cell_type": "code",
      "metadata": {
        "id": "nFiSDWUAA_YK",
        "colab_type": "code",
        "colab": {}
      },
      "source": [
        "# Analyze categorical columns -> use df.columns to find out which one there is\n",
        "catColumns = [\"gender\", \"SeniorCitizen\", 'Partner', 'Dependents', 'PhoneService'\n",
        "              ,'MultipleLines', 'InternetService', 'OnlineSecurity', \n",
        "              'OnlineBackup', 'DeviceProtection', 'TechSupport', 'StreamingTV',\n",
        "              'StreamingMovies', 'Contract', 'PaperlessBilling', 'PaymentMethod'\n",
        "              ]\n",
        "\n",
        "# See if dataset is balanced or not -> here unbalanced\n",
        "df.groupBy(\"Churn\").count().show()\n",
        "\n",
        "# Note to print information use the inbuild spark commands as follows:\n",
        "# df.select(\"gender\",\"churn\").groupBy(\"gender\",\"churn\").count().show()\n",
        "# For a pivot table, convert to pandas dataframe and unse pd.pivot_table\n",
        "for col in catColumns:\n",
        "  df_pd = df.select(col,\"churn\").groupBy(col,\"churn\").count().toPandas()\n",
        "  display(pd.pivot_table(df_pd, index = col, columns = \"churn\"))\n",
        "\n",
        "# We can see i.e:\n",
        "#   - gender makes no difference\n",
        "#   - Higher churn among seniors\n",
        "#   - Higher churn for fiber optic users or those without online security\n",
        "#   - Higher churn rate if paperless billing\n",
        "# etc."
      ],
      "execution_count": null,
      "outputs": []
    },
    {
      "cell_type": "code",
      "metadata": {
        "id": "S42aHuZDUqNa",
        "colab_type": "code",
        "colab": {
          "base_uri": "https://localhost:8080/",
          "height": 184
        },
        "outputId": "391bb3f2-6006-462a-f217-88caab28ff8b"
      },
      "source": [
        "# Sample more in-depth statistics for the categorical columns\n",
        "\n",
        "df.stat.crosstab(\"SeniorCitizen\", \"InternetService\").show()\n",
        "# We see that senior citizen mostly have Fiber Optic, while non-seniors \n",
        "# its mostly DSL and Fiber\n",
        "\n",
        "df.stat.freqItems(catColumns, 0.6).collect()"
      ],
      "execution_count": null,
      "outputs": [
        {
          "output_type": "stream",
          "text": [
            "+-----------------------------+----+-----------+----+\n",
            "|SeniorCitizen_InternetService| DSL|Fiber optic|  No|\n",
            "+-----------------------------+----+-----------+----+\n",
            "|                            1| 259|        831|  52|\n",
            "|                            0|2162|       2265|1474|\n",
            "+-----------------------------+----+-----------+----+\n",
            "\n"
          ],
          "name": "stdout"
        },
        {
          "output_type": "execute_result",
          "data": {
            "text/plain": [
              "[Row(gender_freqItems=['Male'], SeniorCitizen_freqItems=[0], Partner_freqItems=['No'], Dependents_freqItems=['No'], PhoneService_freqItems=['Yes'], MultipleLines_freqItems=['Yes'], InternetService_freqItems=['Fiber optic'], OnlineSecurity_freqItems=['No'], OnlineBackup_freqItems=['Yes'], DeviceProtection_freqItems=['No'], TechSupport_freqItems=['No'], StreamingTV_freqItems=['Yes'], StreamingMovies_freqItems=['No'], Contract_freqItems=['Month-to-month'], PaperlessBilling_freqItems=['Yes'], PaymentMethod_freqItems=['Bank transfer (automatic)'])]"
            ]
          },
          "metadata": {
            "tags": []
          },
          "execution_count": 30
        }
      ]
    },
    {
      "cell_type": "code",
      "metadata": {
        "id": "Z7eZFmTiV2XG",
        "colab_type": "code",
        "colab": {
          "base_uri": "https://localhost:8080/",
          "height": 857
        },
        "outputId": "5e29b1df-3400-4b3b-d77b-ce55d439fe4f"
      },
      "source": [
        "# Analyze the numeric columns:\n",
        "df.select(\"tenure\", \"TotalCharges\", \"MonthlyCharges\").describe().show()\n",
        "\n",
        "pdf_df = df.select(\"tenure\", \"churn\").groupBy(\"tenure\",\"churn\").count()\\\n",
        "                                     .sort(\"tenure\",\"churn\").toPandas()\n",
        "pdf_df[pdf_df[\"churn\"] == \"Yes\"].plot.bar(x = \"tenure\", y = \"count\", \n",
        "                                          figsize = (15,5), color = \"r\")\n",
        "pdf_df[pdf_df[\"churn\"] == \"No\"].plot.bar(x = \"tenure\", y = \"count\", \n",
        "                                         figsize = (15,5), color = \"g\")\n",
        "\n",
        "# We can see that the churn = yes rate drops with increasing tenure\n",
        "# and subsequently that the churn = no rate increases with incr. tenure"
      ],
      "execution_count": null,
      "outputs": [
        {
          "output_type": "stream",
          "text": [
            "+-------+------------------+------------------+------------------+\n",
            "|summary|            tenure|      TotalCharges|    MonthlyCharges|\n",
            "+-------+------------------+------------------+------------------+\n",
            "|  count|              7043|              7032|              7043|\n",
            "|   mean| 32.37114865824223|2283.3004408418697| 64.76169246059922|\n",
            "| stddev|24.559481023094442| 2266.771361883145|30.090047097678482|\n",
            "|    min|                 0|              18.8|             18.25|\n",
            "|    max|                72|            8684.8|            118.75|\n",
            "+-------+------------------+------------------+------------------+\n",
            "\n"
          ],
          "name": "stdout"
        },
        {
          "output_type": "execute_result",
          "data": {
            "text/plain": [
              "<matplotlib.axes._subplots.AxesSubplot at 0x7ff09dbb89e8>"
            ]
          },
          "metadata": {
            "tags": []
          },
          "execution_count": 12
        },
        {
          "output_type": "display_data",
          "data": {
            "image/png": "[encoded data removed]",
            "text/plain": [
              "<Figure size 1080x360 with 1 Axes>"
            ]
          },
          "metadata": {
            "tags": [],
            "needs_background": "light"
          }
        },
        {
          "output_type": "display_data",
          "data": {
            "image/png": "[encoded data removed]",
            "text/plain": [
              "<Figure size 1080x360 with 1 Axes>"
            ]
          },
          "metadata": {
            "tags": [],
            "needs_background": "light"
          }
        }
      ]
    },
    {
      "cell_type": "markdown",
      "metadata": {
        "id": "aTHfXk_UfS3J",
        "colab_type": "text"
      },
      "source": [
        "## Create and run the pre-processing pipeline"
      ]
    },
    {
      "cell_type": "code",
      "metadata": {
        "id": "GyJRO3-TdIOG",
        "colab_type": "code",
        "colab": {
          "base_uri": "https://localhost:8080/",
          "height": 54
        },
        "outputId": "e2af81bc-e487-4d09-af2f-987acdbde749"
      },
      "source": [
        "# Split data into train and test, with a seed of 24 -> ensures same split\n",
        "(train_data, test_data) = df.randomSplit([0.7, 0.3], 24)\n",
        "print(\"Records for trainig: \" + str(train_data.count()))\n",
        "print(\"Records for evaluation: \" + str(test_data.count()))"
      ],
      "execution_count": null,
      "outputs": [
        {
          "output_type": "stream",
          "text": [
            "Records for trainig: 4942\n",
            "Records for evaluation: 2101\n"
          ],
          "name": "stdout"
        }
      ]
    },
    {
      "cell_type": "code",
      "metadata": {
        "id": "hWpraAoZgJgp",
        "colab_type": "code",
        "colab": {}
      },
      "source": [
        "# Convert Categorical coloums into number using a string encoder and OHE\n",
        "stages = []\n",
        "\n",
        "for category in catColumns:\n",
        "  stringIndexer = StringIndexer(inputCol = category, \n",
        "                                outputCol = category + \"Index\")\n",
        "  OHE = OneHotEncoder(inputCol= stringIndexer.getOutputCol(), \n",
        "                      outputCol = category + \"CatVec\")\n",
        "  stages += [stringIndexer, OHE]\n"
      ],
      "execution_count": null,
      "outputs": []
    },
    {
      "cell_type": "code",
      "metadata": {
        "id": "DOEJJ_-wijmP",
        "colab_type": "code",
        "colab": {}
      },
      "source": [
        "# Fix missing input -> as we saw there are some entries missing in TotalCharges.\n",
        "# These inputs can be estimated using Linear regerssion -> use Imputer here\n",
        "imputer = Imputer(inputCol= \"TotalCharges\", outputCol = \"out_TotalCharges\")\n",
        "stages += [imputer]"
      ],
      "execution_count": null,
      "outputs": []
    },
    {
      "cell_type": "code",
      "metadata": {
        "id": "prIW2k1oisz2",
        "colab_type": "code",
        "colab": {}
      },
      "source": [
        "# Finally convert label -> churn YES/NO to 0/1 using a string indexer\n",
        "label_Idx = StringIndexer(inputCol = \"Churn\", outputCol = \"label\")\n",
        "stages += [label_Idx]"
      ],
      "execution_count": null,
      "outputs": []
    },
    {
      "cell_type": "code",
      "metadata": {
        "id": "_JAr1cr3lnQY",
        "colab_type": "code",
        "colab": {}
      },
      "source": [
        "# create feature Vector using VectorAssembler\n",
        "numericCols = [\"tenure\", \"out_TotalCharges\", \"MonthlyCharges\"]\n",
        "assembleInputs = [c + \"CatVec\" for c in catColumns] + numericCols\n",
        "assembler = VectorAssembler(inputCols = assembleInputs, outputCol = \"features\")\n",
        "stages += [assembler]"
      ],
      "execution_count": null,
      "outputs": []
    },
    {
      "cell_type": "code",
      "metadata": {
        "id": "nipyyakPmUMx",
        "colab_type": "code",
        "colab": {}
      },
      "source": [
        "# Final Stages summary:\n",
        "stages"
      ],
      "execution_count": null,
      "outputs": []
    },
    {
      "cell_type": "code",
      "metadata": {
        "id": "61Qlzsi3mYGT",
        "colab_type": "code",
        "colab": {}
      },
      "source": [
        "# Create pipeline and run it on training data\n",
        "pipeline = Pipeline(stages = stages)\n",
        "pipelineModel = pipeline.fit(train_data)\n",
        "\n",
        "# Transform Training and Test Data -> Append new categorical and num columns\n",
        "trainprepDF = pipelineModel.transform(train_data)\n",
        "testprepDF = pipelineModel.transform(test_data)\n",
        "\n",
        "# Finally we the data preprocesssing is finished, the end-result is a 30-dim\n",
        "# features vector and a numerical labels vector necesarry for training the LR\n",
        "trainprepDF.printSchema()\n",
        "trainprepDF.show(2)"
      ],
      "execution_count": null,
      "outputs": []
    },
    {
      "cell_type": "markdown",
      "metadata": {
        "id": "OacA5JQXyl8I",
        "colab_type": "text"
      },
      "source": [
        "## Create and Evaluate Model with HyperParameter Tuning\n"
      ]
    },
    {
      "cell_type": "code",
      "metadata": {
        "id": "SRPGqnI6n5uq",
        "colab_type": "code",
        "colab": {}
      },
      "source": [
        "# Use a Logistic Regression for predictions. By default the Model expects\n",
        "# featuresCol = \"features\" and labelCol = 'label' as is the case here\n",
        "lr = LogisticRegression()\n",
        "evaluatorLR = BinaryClassificationEvaluator()\n",
        "\n",
        "# Perform CrossValidation and look for the best parameter combination\n",
        "# Create Parameter Grid for Cross Validation\n",
        "paramGrid = (ParamGridBuilder()\n",
        "            .addGrid(lr.regParam, [0.01, 0.5, 2.0])\n",
        "            .addGrid(lr.elasticNetParam, [0.0, 0.5, 1.0])\n",
        "            .addGrid(lr.maxIter, [5, 10, 15])\n",
        "            .build())\n",
        "\n",
        "# Use 5-Fold CrossValidation to test the parameter combinations\n",
        "cv = CrossValidator(estimator=lr, estimatorParamMaps=paramGrid, \n",
        "                    evaluator = evaluatorLR)\n",
        "cvModel = cv.fit(trainprepDF)"
      ],
      "execution_count": null,
      "outputs": []
    },
    {
      "cell_type": "code",
      "metadata": {
        "id": "kzXdFmDauLe1",
        "colab_type": "code",
        "colab": {
          "base_uri": "https://localhost:8080/",
          "height": 481
        },
        "outputId": "9c6296b9-2824-456d-9ab9-5f799daf8566"
      },
      "source": [
        "# Analyze Logistic Regression Results for the Training Dataset\n",
        "summary = cvModel.bestModel.summary\n",
        "accuracy = summary.accuracy\n",
        "falsePositiveRate = summary.weightedFalsePositiveRate\n",
        "truePositiveRate = summary.weightedTruePositiveRate\n",
        "fMeasure = summary.weightedFMeasure()\n",
        "precision = summary.weightedPrecision\n",
        "recall = summary.weightedRecall\n",
        "AreaUnderROC = summary.areaUnderROC\n",
        "\n",
        "print((\"Accuracy: %s\\nFPR: %s\\nTPR: %s\\nF-Measure: %s\\nPrecision: %s\\nRecall: \"\n",
        "       \"%s\\nAreaUnderRoc: %s\\n\") % (accuracy, falsePositiveRate, \n",
        "                                    truePositiveRate, fMeasure, precision, \n",
        "                                    recall,AreaUnderROC))\n",
        "\n",
        "plt.figure(figsize=(5,5))\n",
        "plt.plot([0, 1], [0, 1], 'r--')\n",
        "plt.plot(summary.roc.select('FPR').collect(),\n",
        "         summary.roc.select('TPR').collect())\n",
        "plt.xlabel('FPR')\n",
        "plt.ylabel('TPR')\n",
        "plt.show()"
      ],
      "execution_count": null,
      "outputs": [
        {
          "output_type": "stream",
          "text": [
            "Accuracy: 0.8095912585997572\n",
            "FPR: 0.36212877484695083\n",
            "TPR: 0.8095912585997571\n",
            "F-Measure: 0.8026086438816719\n",
            "Precision: 0.8006988491946883\n",
            "Recall: 0.8095912585997571\n",
            "AreaUnderRoc: 0.8521177267433027\n",
            "\n"
          ],
          "name": "stdout"
        },
        {
          "output_type": "display_data",
          "data": {
            "image/png": "[encoded data removed]",
            "text/plain": [
              "<Figure size 360x360 with 1 Axes>"
            ]
          },
          "metadata": {
            "tags": [],
            "needs_background": "light"
          }
        }
      ]
    },
    {
      "cell_type": "code",
      "metadata": {
        "id": "qWiOy5mJ0nEe",
        "colab_type": "code",
        "colab": {
          "base_uri": "https://localhost:8080/",
          "height": 35
        },
        "outputId": "d4151df5-8a68-4e50-b46b-45fabb0d14fd"
      },
      "source": [
        "# Evaluate Logistic Regression using the Testing Dataset\n",
        "predictions = cvModel.bestModel.transform(testprepDF)\n",
        "# The transform method appends 3 new columns to the DF using the LR data, \n",
        "# namely RawPred, Prob, Pred. Therefore it is also possible to add the LogReg \n",
        "# to the Pipeline!\n",
        "evaluatorLR = BinaryClassificationEvaluator()\n",
        "area_under_curve = evaluatorLR.evaluate(predictions)\n",
        "print(\"Log. Reg. Test Performance: \" + str(area_under_curve))"
      ],
      "execution_count": null,
      "outputs": [
        {
          "output_type": "stream",
          "text": [
            "Log. Reg. Test Performance: 0.8288022920791268\n"
          ],
          "name": "stdout"
        }
      ]
    },
    {
      "cell_type": "markdown",
      "metadata": {
        "id": "dyA-qnAzxrCd",
        "colab_type": "text"
      },
      "source": [
        "## Test a Different Classifier"
      ]
    },
    {
      "cell_type": "code",
      "metadata": {
        "id": "56YzTCLsd-dC",
        "colab_type": "code",
        "colab": {}
      },
      "source": [
        "rf = RandomForestClassifier()\n",
        "\n",
        "paramGrid = (ParamGridBuilder()\n",
        "            .addGrid(rf.impurity, [\"gini\", \"entropy\"])\n",
        "            .addGrid(rf.numTrees, [20, 40, 60])\n",
        "            .addGrid(rf.maxDepth, [5, 10, 15])\n",
        "            .build())\n",
        "\n",
        "cv = CrossValidator(estimator=rf, estimatorParamMaps=paramGrid, \n",
        "                    evaluator = evaluatorLR)\n",
        "cvModel = cv.fit(trainprepDF)"
      ],
      "execution_count": null,
      "outputs": []
    },
    {
      "cell_type": "code",
      "metadata": {
        "id": "so-cYPCdeVEi",
        "colab_type": "code",
        "colab": {
          "base_uri": "https://localhost:8080/",
          "height": 35
        },
        "outputId": "0e1107d2-e762-44df-c28b-f672d1de1fdb"
      },
      "source": [
        "# Evaluate Logistic Regression using the Testing Dataset\n",
        "predictions = cvModel.bestModel.transform(testprepDF)\n",
        "evaluatorLR = BinaryClassificationEvaluator()\n",
        "area_under_curve = evaluatorLR.evaluate(predictions)\n",
        "print(\"Random Forest Test Performance: \" + str(area_under_curve))"
      ],
      "execution_count": null,
      "outputs": [
        {
          "output_type": "stream",
          "text": [
            "Random Forest Test Performance: 0.8308372941141294\n"
          ],
          "name": "stdout"
        }
      ]
    }
  ]
}